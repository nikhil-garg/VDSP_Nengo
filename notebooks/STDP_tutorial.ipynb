{
 "cells": [
  {
   "cell_type": "markdown",
   "metadata": {},
   "source": [
    "# Tutorial on implementing voltage dependent synaptic plasticity in Nengo\n",
    "\n",
    "## Author : Nikhil Garg\n",
    "\n",
    "### Last updated : 3rd July 2021"
   ]
  },
  {
   "cell_type": "code",
   "execution_count": 1,
   "metadata": {},
   "outputs": [],
   "source": [
    "#Import statements\n",
    "%matplotlib inline\n",
    "import matplotlib.pyplot as plt\n",
    "import numpy as np\n",
    "import nengo\n",
    "import random\n",
    "import os\n",
    "\n",
    "from nengo.utils.ensemble import response_curves, tuning_curves\n",
    "from nengo_extras.plot_spikes import (cluster, merge, plot_spikes, preprocess_spikes, sample_by_variance)\n",
    "from nengo.utils.matplotlib import rasterplot\n",
    "\n",
    "from nengo.dists import Choice, Distribution, get_samples, Uniform\n",
    "from mpl_toolkits.mplot3d import Axes3D\n",
    "from nengo.neurons import LIFRate\n",
    "from nengo.params import Parameter, NumberParam, FrozenObject\n",
    "from nengo.utils.numpy import clip, is_array_like\n",
    "\n"
   ]
  },
  {
   "cell_type": "code",
   "execution_count": 23,
   "metadata": {},
   "outputs": [],
   "source": [
    "class MyLIF_in(LIFRate):\n",
    "    \"\"\"Spiking version of the leaky integrate-and-fire (LIF) neuron model.\n",
    "\n",
    "    Parameters\n",
    "    ----------\n",
    "    tau_rc : float\n",
    "        Membrane RC time constant, in seconds. Affects how quickly the membrane\n",
    "        voltage decays to zero in the absence of input (larger = slower decay).\n",
    "    tau_ref : float\n",
    "        Absolute refractory period, in seconds. This is how long the\n",
    "        membrane voltage is held at zero after a spike.\n",
    "    min_voltage : float\n",
    "        Minimum value for the membrane voltage. If ``-np.inf``, the voltage\n",
    "        is never clipped.\n",
    "    amplitude : float\n",
    "        Scaling factor on the neuron output. Corresponds to the relative\n",
    "        amplitude of the output spikes of the neuron.\n",
    "    initial_state : {str: Distribution or array_like}\n",
    "        Mapping from state variables names to their desired initial value.\n",
    "        These values will override the defaults set in the class's state attribute.\n",
    "    \"\"\"\n",
    "\n",
    "    state = {\n",
    "        \"voltage\": Uniform(low=0, high=1),\n",
    "        \"refractory_time\": Choice([0]),\n",
    "    }\n",
    "    spiking = True\n",
    "\n",
    "    min_voltage = NumberParam(\"min_voltage\", high=0)\n",
    "\n",
    "    def __init__(\n",
    "        self, tau_rc=0.02, tau_ref=0.002, min_voltage=0, amplitude=1, initial_state=None\n",
    "    ):\n",
    "        super().__init__(\n",
    "            tau_rc=tau_rc,\n",
    "            tau_ref=tau_ref,\n",
    "            amplitude=amplitude,\n",
    "            initial_state=initial_state,\n",
    "        )\n",
    "        self.min_voltage = min_voltage\n",
    "\n",
    "    def step(self, dt, J, output, voltage, refractory_time):\n",
    "        # look these up once to avoid repeated parameter accesses\n",
    "        tau_rc = self.tau_rc\n",
    "        min_voltage = self.min_voltage\n",
    "\n",
    "        # reduce all refractory times by dt\n",
    "        refractory_time -= dt\n",
    "\n",
    "        # compute effective dt for each neuron, based on remaining time.\n",
    "        # note that refractory times that have completed midway into this\n",
    "        # timestep will be given a partial timestep, and moreover these will\n",
    "        # be subtracted to zero at the next timestep (or reset by a spike)\n",
    "        delta_t = clip((dt - refractory_time), 0, dt)\n",
    "\n",
    "        # update voltage using discretized lowpass filter\n",
    "        # since v(t) = v(0) + (J - v(0))*(1 - exp(-t/tau)) assuming\n",
    "        # J is constant over the interval [t, t + dt)\n",
    "        voltage -= (J - voltage) * np.expm1(-delta_t / tau_rc)\n",
    "\n",
    "        # determine which neurons spiked (set them to 1/dt, else 0)\n",
    "        spiked_mask = voltage > 1\n",
    "        output[:] = spiked_mask * (self.amplitude / dt)\n",
    "\n",
    "        # set v(0) = 1 and solve for t to compute the spike time\n",
    "        t_spike = dt + tau_rc * np.log1p(\n",
    "            -(voltage[spiked_mask] - 1) / (J[spiked_mask] - 1)\n",
    "        )\n",
    "        # set spiked voltages to zero, refractory times to tau_ref, and\n",
    "        # rectify negative voltages to a floor of min_voltage\n",
    "        voltage[voltage < min_voltage] = min_voltage\n",
    "        voltage[spiked_mask] = -1 #reset voltage\n",
    "        refractory_time[spiked_mask] = self.tau_ref + t_spike"
   ]
  },
  {
   "cell_type": "code",
   "execution_count": 49,
   "metadata": {},
   "outputs": [],
   "source": [
    "import nengo\n",
    "from nengo.builder import Builder\n",
    "from nengo.builder.learning_rules import get_pre_ens, get_post_ens\n",
    "from nengo.builder.operator import Operator\n",
    "from nengo.builder.signal import Signal\n",
    "from nengo.params import BoolParam, NumberParam, StringParam\n",
    "import numpy as np\n",
    "\n",
    "\n",
    "# ================\n",
    "# Frontend objects\n",
    "# ================\n",
    "#\n",
    "# These objects are the ones that you include in your model description.\n",
    "# They are applied to specific connections between groups of neurons.\n",
    "\n",
    "class STDP(nengo.learning_rules.LearningRuleType):\n",
    "    \"\"\"Spike-timing dependent plasticity rule.\"\"\"\n",
    "\n",
    "    # Used by other Nengo objects\n",
    "    modifies = 'weights'\n",
    "    probeable = ('pre_trace', 'post_trace', 'pre_scale', 'post_scale')\n",
    "\n",
    "    # Parameters\n",
    "    pre_tau = NumberParam('pre_tau', low=0, low_open=True)\n",
    "    pre_amp = NumberParam('pre_amp', low=0, low_open=True)\n",
    "    post_tau = NumberParam('post_tau', low=0, low_open=True)\n",
    "    post_amp = NumberParam('post_amp', low=0, low_open=True)\n",
    "    bounds = StringParam('bounds')\n",
    "    max_weight = NumberParam('max_weight')\n",
    "    min_weight = NumberParam('min_weight')\n",
    "\n",
    "    def __init__(\n",
    "            self,\n",
    "            pre_tau=0.0168,\n",
    "            post_tau=0.0337,\n",
    "            pre_amp=0.1,\n",
    "            post_amp=0.1,\n",
    "            bounds='hard',\n",
    "            max_weight=0.5,\n",
    "            min_weight=-0.1,\n",
    "            learning_rate=1e-9,\n",
    "    ):\n",
    "        self.pre_tau = pre_tau\n",
    "        self.post_tau = post_tau\n",
    "        self.pre_amp = pre_amp\n",
    "        self.post_amp = post_amp\n",
    "        self.bounds = bounds\n",
    "        self.max_weight = max_weight\n",
    "        self.min_weight = min_weight\n",
    "        super(STDP, self).__init__(learning_rate)\n",
    "        \n",
    "        \n",
    "@Builder.register(STDP)\n",
    "def build_stdp(model, stdp, rule):\n",
    "    conn = rule.connection\n",
    "    pre_activities = model.sig[get_pre_ens(conn).neurons]['out']\n",
    "    post_activities = model.sig[get_post_ens(conn).neurons]['out']\n",
    "    pre_trace = Signal(np.zeros(pre_activities.size), name=\"pre_trace\")\n",
    "    post_trace = Signal(np.zeros(post_activities.size), name=\"post_trace\")\n",
    "    pre_scale = Signal(\n",
    "        np.zeros(model.sig[conn]['weights'].shape), name=\"pre_scale\")\n",
    "    post_scale = Signal(\n",
    "        np.zeros(model.sig[conn]['weights'].shape), name=\"post_scale\")\n",
    "\n",
    "    model.add_op(SimSTDP(\n",
    "        pre_activities,\n",
    "        post_activities,\n",
    "        pre_trace,\n",
    "        post_trace,\n",
    "        pre_scale,\n",
    "        post_scale,\n",
    "        model.sig[conn]['weights'],\n",
    "        model.sig[rule]['delta'],\n",
    "        learning_rate=stdp.learning_rate,\n",
    "        pre_tau=stdp.pre_tau,\n",
    "        post_tau=stdp.post_tau,\n",
    "        pre_amp=stdp.pre_amp,\n",
    "        post_amp=stdp.post_amp,\n",
    "        bounds=stdp.bounds,\n",
    "        max_weight=stdp.max_weight,\n",
    "        min_weight=stdp.min_weight,\n",
    "    ))\n",
    "\n",
    "    # expose these for probes\n",
    "    model.sig[rule]['pre_trace'] = pre_trace\n",
    "    model.sig[rule]['post_trace'] = post_trace\n",
    "    model.sig[rule]['pre_scale'] = pre_scale\n",
    "    model.sig[rule]['post_scale'] = post_scale\n",
    "\n",
    "    model.params[rule] = None  # no build-time info to return\n",
    "\n",
    "\n",
    "class SimSTDP(Operator):\n",
    "    def __init__(\n",
    "            self,\n",
    "            pre_activities,\n",
    "            post_activities,\n",
    "            pre_trace,\n",
    "            post_trace,\n",
    "            pre_scale,\n",
    "            post_scale,\n",
    "            weights,\n",
    "            delta,\n",
    "            learning_rate,\n",
    "            pre_tau,\n",
    "            post_tau,\n",
    "            pre_amp,\n",
    "            post_amp,\n",
    "            bounds,\n",
    "            max_weight,\n",
    "            min_weight,\n",
    "    ):\n",
    "        self.learning_rate = learning_rate\n",
    "        self.pre_tau = pre_tau\n",
    "        self.post_tau = post_tau\n",
    "        self.pre_amp = pre_amp\n",
    "        self.post_amp = post_amp\n",
    "        self.bounds = bounds\n",
    "        self.max_weight = max_weight\n",
    "        self.min_weight = min_weight\n",
    "\n",
    "        self.sets = []\n",
    "        self.incs = []\n",
    "        self.reads = [pre_activities, post_activities, weights]\n",
    "        self.updates = [delta, pre_trace, post_trace, pre_scale, post_scale]\n",
    "\n",
    "    @property\n",
    "    def delta(self):\n",
    "        return self.updates[0]\n",
    "\n",
    "    @property\n",
    "    def post_activities(self):\n",
    "        return self.reads[1]\n",
    "\n",
    "    @property\n",
    "    def post_scale(self):\n",
    "        return self.updates[4]\n",
    "\n",
    "    @property\n",
    "    def post_trace(self):\n",
    "        return self.updates[2]\n",
    "\n",
    "    @property\n",
    "    def pre_activities(self):\n",
    "        return self.reads[0]\n",
    "\n",
    "    @property\n",
    "    def pre_scale(self):\n",
    "        return self.updates[3]\n",
    "\n",
    "    @property\n",
    "    def pre_trace(self):\n",
    "        return self.updates[1]\n",
    "\n",
    "    @property\n",
    "    def weights(self):\n",
    "        return self.reads[2]\n",
    "\n",
    "    def make_step(self, signals, dt, rng):\n",
    "        pre_activities = signals[self.pre_activities]\n",
    "        post_activities = signals[self.post_activities]\n",
    "        pre_trace = signals[self.pre_trace]\n",
    "        post_trace = signals[self.post_trace]\n",
    "        pre_scale = signals[self.pre_scale]\n",
    "        post_scale = signals[self.post_scale]\n",
    "        weights = signals[self.weights]\n",
    "        delta = signals[self.delta]\n",
    "        alpha = self.learning_rate * dt\n",
    "\n",
    "        # Could be configurable\n",
    "        pre_ampscale = 1.\n",
    "        post_ampscale = 1.\n",
    "\n",
    "        if self.bounds == 'hard':\n",
    "\n",
    "            def update_scales():\n",
    "                pre_scale[...] = ((self.max_weight - weights) > 0.\n",
    "                                  ).astype(np.float64) * pre_ampscale\n",
    "                post_scale[...] = -((self.min_weight + weights) < 0.\n",
    "                                    ).astype(np.float64) * post_ampscale\n",
    "        elif self.bounds == 'soft':\n",
    "\n",
    "            def update_scales():\n",
    "                pre_scale[...] = (self.max_weight - weights) * pre_ampscale\n",
    "                post_scale[...] = (self.min_weight + weights) * post_ampscale\n",
    "\n",
    "        elif self.bounds == 'none':\n",
    "\n",
    "            def update_scales():\n",
    "                pre_scale[...] = pre_ampscale\n",
    "                post_scale[...] = -post_ampscale\n",
    "\n",
    "        def step_stdp():\n",
    "            update_scales()\n",
    "            pre_trace[...] += ((dt / self.pre_tau)\n",
    "                               * (-pre_trace\n",
    "                                  + self.pre_amp * pre_activities))\n",
    "            post_trace[...] += ((dt / self.post_tau)\n",
    "                                * (-post_trace\n",
    "                                   + self.post_amp * post_activities))\n",
    "            delta[...] = (alpha\n",
    "                          * (pre_scale\n",
    "                             * pre_trace[np.newaxis, :]\n",
    "                             * post_activities[:, np.newaxis]\n",
    "                             + post_scale\n",
    "                             * post_trace[:, np.newaxis]\n",
    "                             * pre_activities))\n",
    "\n",
    "        return step_stdp\n"
   ]
  },
  {
   "cell_type": "code",
   "execution_count": 59,
   "metadata": {},
   "outputs": [],
   "source": [
    "\"\"\"Nengo implementations of Simplified STDP rules.\"\"\"\n",
    "\n",
    "import nengo\n",
    "from nengo.builder import Builder\n",
    "from nengo.builder.learning_rules import get_pre_ens, get_post_ens\n",
    "from nengo.builder.operator import Operator\n",
    "from nengo.builder.signal import Signal\n",
    "from nengo.params import BoolParam, NumberParam, StringParam, Default\n",
    "import numpy as np\n",
    "import math \n",
    "\n",
    "class STDP(nengo.learning_rules.LearningRuleType):\n",
    "    \"\"\"Simplified Spike-timing dependent plasticity rule.\"\"\"\n",
    "\n",
    "    # Used by other Nengo objects\n",
    "    modifies = 'weights'\n",
    "    probeable = ('pre_trace', 'post_trace',\"delta\")\n",
    "\n",
    "    # Parameters\n",
    "\n",
    "    pre_tau = NumberParam('pre_tau', low=0, low_open=True)\n",
    "    post_tau = NumberParam('post_tau', low=0, low_open=True)\n",
    "    alf_p = NumberParam('alf_p', low=0, low_open=True)\n",
    "    alf_n = NumberParam('alf_n', low=0, low_open=True)\n",
    "    beta_p = NumberParam('beta_p', low=0, low_open=True)\n",
    "    beta_n = NumberParam('beta_n', low=0, low_open=True)\n",
    "    max_weight = NumberParam('max_weight')\n",
    "    min_weight = NumberParam('min_weight')\n",
    "    learning_rate = NumberParam(\"learning_rate\", low=0, readonly=True, default=15e-3)\n",
    "    def __init__(\n",
    "            self,\n",
    "            alf_p=0.05,\n",
    "            alf_n=0.0001,\n",
    "            beta_p=1.5,\n",
    "            beta_n=0.5,\n",
    "            max_weight=1.0,\n",
    "            min_weight=0.0001,\n",
    "            pre_tau=0.0168,\n",
    "            post_tau=0.0337,\n",
    "            learning_rate=Default,\n",
    "    ):\n",
    "        self.pre_tau = pre_tau\n",
    "        self.post_tau = post_tau\n",
    "        self.alf_p = alf_p\n",
    "        self.alf_n = alf_n\n",
    "        self.beta_p = beta_p\n",
    "        self.beta_n = beta_n\n",
    "        self.max_weight = max_weight\n",
    "        self.min_weight = min_weight\n",
    "        super().__init__(learning_rate)\n",
    "\n",
    "@Builder.register(STDP)\n",
    "def build_stdp(model, stdp, rule):\n",
    "    conn = rule.connection\n",
    "    pre_activities = model.sig[get_pre_ens(conn).neurons]['out']\n",
    "    post_activities = model.sig[get_post_ens(conn).neurons]['out']\n",
    "    pre_trace = Signal(np.zeros(pre_activities.size), name=\"pre_trace\")\n",
    "    post_trace = Signal(np.zeros(post_activities.size), name=\"post_trace\")\n",
    "\n",
    "\n",
    "    model.add_op(SimSTDP(\n",
    "        pre_activities,\n",
    "        post_activities,\n",
    "        pre_trace,\n",
    "        post_trace,\n",
    "        model.sig[conn]['weights'],\n",
    "        model.sig[rule]['delta'],\n",
    "        pre_tau=stdp.pre_tau,\n",
    "        post_tau=stdp.post_tau,\n",
    "        alf_p=stdp.alf_p,\n",
    "        alf_n=stdp.alf_n,\n",
    "        beta_p=stdp.beta_p,\n",
    "        beta_n=stdp.beta_n,\n",
    "        max_weight=stdp.max_weight,\n",
    "        min_weight=stdp.min_weight,\n",
    "        learning_rate=stdp.learning_rate,\n",
    "    ))\n",
    "\n",
    "    # expose these for probes\n",
    "    model.sig[rule]['pre_trace'] = pre_trace\n",
    "    model.sig[rule]['post_trace'] = post_trace\n",
    "    \n",
    "    model.params[rule] = None  # no build-time info to return\n",
    "\n",
    "\n",
    "class SimSTDP(Operator):\n",
    "    def __init__(\n",
    "            self,\n",
    "            pre_activities,\n",
    "            post_activities,\n",
    "            pre_trace,\n",
    "            post_trace,\n",
    "            weights,\n",
    "            delta,\n",
    "            alf_p,\n",
    "            alf_n,\n",
    "            beta_p,\n",
    "            beta_n,\n",
    "            max_weight,\n",
    "            min_weight,\n",
    "            pre_tau,\n",
    "            post_tau,\n",
    "            learning_rate,\n",
    "            tag=None\n",
    "    ):\n",
    "        super(SimSTDP,self).__init__(tag=tag)\n",
    "        self.learning_rate = learning_rate\n",
    "        self.alf_p = alf_p\n",
    "        self.alf_n = alf_n\n",
    "        self.beta_p = beta_p\n",
    "        self.beta_n = beta_n\n",
    "        self.pre_tau = pre_tau\n",
    "        self.post_tau = post_tau\n",
    "        self.max_weight = max_weight\n",
    "        self.min_weight = min_weight\n",
    "        self.sets = []\n",
    "        self.incs = []\n",
    "        self.reads = [pre_activities, post_activities, weights]\n",
    "        self.updates = [delta, pre_trace, post_trace]\n",
    "        \n",
    "    @property\n",
    "    def delta(self):\n",
    "        return self.updates[0]\n",
    "\n",
    "    @property\n",
    "    def post_activities(self):\n",
    "        return self.reads[1]\n",
    "\n",
    "    @property\n",
    "    def post_trace(self):\n",
    "        return self.updates[2]\n",
    "\n",
    "    @property\n",
    "    def pre_activities(self):\n",
    "        return self.reads[0]\n",
    "\n",
    "    @property\n",
    "    def pre_trace(self):\n",
    "        return self.updates[1]\n",
    "\n",
    "    @property\n",
    "    def weights(self):\n",
    "        return self.reads[2]\n",
    "\n",
    "    def make_step(self, signals, dt, rng):\n",
    "\n",
    "        pre_activities = signals[self.pre_activities]\n",
    "        post_activities = signals[self.post_activities]\n",
    "        pre_trace = signals[self.pre_trace]\n",
    "        post_trace = signals[self.post_trace]\n",
    "        weights = signals[self.weights]\n",
    "        delta = signals[self.delta]\n",
    "\n",
    "        alphaP = self.learning_rate * (dt + self.alf_p) \n",
    "        alphaN = self.learning_rate * (dt + self.alf_n) \n",
    "\n",
    "        #alphaP = self.alf_p \n",
    "        #alphaN = self.alf_n\n",
    "        def step_stdp():\n",
    "\n",
    "            pre_trace[...] += ((dt / self.pre_tau) * (-pre_trace + pre_activities))\n",
    "\n",
    "            post_trace[...] += ((dt / self.post_tau) * (-post_trace + post_activities))\n",
    "\n",
    "            delta[...] = (( alphaP  *  np.exp( - self.beta_p * (( weights - self.min_weight )/( self.max_weight - self.min_weight )) )) * pre_trace[np.newaxis, :] - ( alphaN  * np.exp( - self.beta_n * (( self.max_weight - weights )/( self.max_weight - self.min_weight )) )) * post_trace[:, np.newaxis]) * post_activities[:, np.newaxis] * dt\n",
    "\n",
    "            np.putmask(delta,((weights + delta) < self.min_weight),self.min_weight - weights)\n",
    "            np.putmask(delta,((weights + delta) > self.max_weight),self.max_weight - weights)\n",
    "\n",
    "        return step_stdp"
   ]
  },
  {
   "cell_type": "markdown",
   "metadata": {},
   "source": [
    "## A couple of neurons connected via a synapse implementing STDP"
   ]
  },
  {
   "cell_type": "code",
   "execution_count": 67,
   "metadata": {},
   "outputs": [
    {
     "data": {
      "application/vdom.v1+json": {
       "attributes": {},
       "tagName": "div"
      },
      "text/html": [
       "\n",
       "                <script>\n",
       "                    if (Jupyter.version.split(\".\")[0] < 5) {\n",
       "                        var pb = document.getElementById(\"13a18c11-0ea6-47a1-ad40-c257ae72bc76\");\n",
       "                        var text = document.createTextNode(\n",
       "                            \"HMTL progress bar requires Jupyter Notebook >= \" +\n",
       "                            \"5.0 or Jupyter Lab. Alternatively, you can use \" +\n",
       "                            \"TerminalProgressBar().\");\n",
       "                        pb.parentNode.insertBefore(text, pb);\n",
       "                    }\n",
       "                </script>\n",
       "                <div id=\"13a18c11-0ea6-47a1-ad40-c257ae72bc76\" style=\"\n",
       "                    width: 100%;\n",
       "                    border: 1px solid #cfcfcf;\n",
       "                    border-radius: 4px;\n",
       "                    text-align: center;\n",
       "                    position: relative;\">\n",
       "                  <div class=\"pb-text\" style=\"\n",
       "                      position: absolute;\n",
       "                      width: 100%;\">\n",
       "                    0%\n",
       "                  </div>\n",
       "                  <div class=\"pb-fill\" style=\"\n",
       "                      background-color: #bdd2e6;\n",
       "                      width: 0%;\">\n",
       "                    <style type=\"text/css\" scoped=\"scoped\">\n",
       "                        @keyframes pb-fill-anim {\n",
       "                            0% { background-position: 0 0; }\n",
       "                            100% { background-position: 100px 0; }\n",
       "                        }\n",
       "                    </style>\n",
       "                    &nbsp;\n",
       "                  </div>\n",
       "                </div>"
      ],
      "text/plain": [
       "HtmlProgressBar cannot be displayed. Please use the TerminalProgressBar. It can be enabled with `nengo.rc['progress']['progress_bar'] = 'nengo.utils.progress.TerminalProgressBar'`."
      ]
     },
     "metadata": {},
     "output_type": "display_data"
    },
    {
     "data": {
      "application/vdom.v1+json": {
       "attributes": {
        "id": "dcd38378-3baf-4b7d-8bb6-ab0f44563b79",
        "style": {
         "border": "1px solid #cfcfcf",
         "borderRadius": "4px",
         "boxSizing": "border-box",
         "position": "relative",
         "textAlign": "center",
         "width": "100%"
        }
       },
       "children": [
        {
         "attributes": {
          "class": "pb-text",
          "style": {
           "position": "absolute",
           "width": "100%"
          }
         },
         "children": [
          "Build finished in 0:00:01."
         ],
         "tagName": "div"
        },
        {
         "attributes": {
          "class": "pb-fill",
          "style": {
           "animation": "none",
           "backgroundColor": "#bdd2e6",
           "backgroundImage": "none",
           "backgroundSize": "100px 100%",
           "width": "100%"
          }
         },
         "children": [
          {
           "attributes": {
            "scoped": "scoped",
            "type": "text/css"
           },
           "children": [
            "\n                        @keyframes pb-fill-anim {\n                            0% { background-position: 0 0; }\n                            100% { background-position: 100px 0; }\n                        }}"
           ],
           "tagName": "style"
          },
          " "
         ],
         "tagName": "div"
        }
       ],
       "tagName": "div"
      },
      "text/html": [
       "<script>\n",
       "              (function () {\n",
       "                  var root = document.getElementById('13a18c11-0ea6-47a1-ad40-c257ae72bc76');\n",
       "                  var text = root.getElementsByClassName('pb-text')[0];\n",
       "                  var fill = root.getElementsByClassName('pb-fill')[0];\n",
       "\n",
       "                  text.innerHTML = 'Build finished in 0:00:01.';\n",
       "                  \n",
       "            fill.style.width = '100%';\n",
       "            fill.style.animation = 'pb-fill-anim 2s linear infinite';\n",
       "            fill.style.backgroundSize = '100px 100%';\n",
       "            fill.style.backgroundImage = 'repeating-linear-gradient(' +\n",
       "                '90deg, #bdd2e6, #edf2f8 40%, #bdd2e6 80%, #bdd2e6)';\n",
       "        \n",
       "                  \n",
       "                fill.style.animation = 'none';\n",
       "                fill.style.backgroundImage = 'none';\n",
       "            \n",
       "              })();\n",
       "        </script>"
      ]
     },
     "metadata": {},
     "output_type": "display_data"
    },
    {
     "data": {
      "application/vdom.v1+json": {
       "attributes": {},
       "tagName": "div"
      },
      "text/html": [
       "\n",
       "                <script>\n",
       "                    if (Jupyter.version.split(\".\")[0] < 5) {\n",
       "                        var pb = document.getElementById(\"60d0dec6-d5c2-4955-8d9f-155e5645f969\");\n",
       "                        var text = document.createTextNode(\n",
       "                            \"HMTL progress bar requires Jupyter Notebook >= \" +\n",
       "                            \"5.0 or Jupyter Lab. Alternatively, you can use \" +\n",
       "                            \"TerminalProgressBar().\");\n",
       "                        pb.parentNode.insertBefore(text, pb);\n",
       "                    }\n",
       "                </script>\n",
       "                <div id=\"60d0dec6-d5c2-4955-8d9f-155e5645f969\" style=\"\n",
       "                    width: 100%;\n",
       "                    border: 1px solid #cfcfcf;\n",
       "                    border-radius: 4px;\n",
       "                    text-align: center;\n",
       "                    position: relative;\">\n",
       "                  <div class=\"pb-text\" style=\"\n",
       "                      position: absolute;\n",
       "                      width: 100%;\">\n",
       "                    0%\n",
       "                  </div>\n",
       "                  <div class=\"pb-fill\" style=\"\n",
       "                      background-color: #bdd2e6;\n",
       "                      width: 0%;\">\n",
       "                    <style type=\"text/css\" scoped=\"scoped\">\n",
       "                        @keyframes pb-fill-anim {\n",
       "                            0% { background-position: 0 0; }\n",
       "                            100% { background-position: 100px 0; }\n",
       "                        }\n",
       "                    </style>\n",
       "                    &nbsp;\n",
       "                  </div>\n",
       "                </div>"
      ],
      "text/plain": [
       "HtmlProgressBar cannot be displayed. Please use the TerminalProgressBar. It can be enabled with `nengo.rc['progress']['progress_bar'] = 'nengo.utils.progress.TerminalProgressBar'`."
      ]
     },
     "metadata": {},
     "output_type": "display_data"
    },
    {
     "data": {
      "application/vdom.v1+json": {
       "attributes": {
        "id": "b5ca3f34-08c1-472a-a387-5a6c95016b6a",
        "style": {
         "border": "1px solid #cfcfcf",
         "borderRadius": "4px",
         "boxSizing": "border-box",
         "position": "relative",
         "textAlign": "center",
         "width": "100%"
        }
       },
       "children": [
        {
         "attributes": {
          "class": "pb-text",
          "style": {
           "position": "absolute",
           "width": "100%"
          }
         },
         "children": [
          "Simulation finished in 0:00:01."
         ],
         "tagName": "div"
        },
        {
         "attributes": {
          "class": "pb-fill",
          "style": {
           "animation": "none",
           "backgroundColor": "#bdd2e6",
           "backgroundImage": "none",
           "transition": "width 0.1s linear",
           "width": "100%"
          }
         },
         "children": [
          {
           "attributes": {
            "scoped": "scoped",
            "type": "text/css"
           },
           "children": [
            "\n                        @keyframes pb-fill-anim {\n                            0% { background-position: 0 0; }\n                            100% { background-position: 100px 0; }\n                        }}"
           ],
           "tagName": "style"
          },
          " "
         ],
         "tagName": "div"
        }
       ],
       "tagName": "div"
      },
      "text/html": [
       "<script>\n",
       "              (function () {\n",
       "                  var root = document.getElementById('60d0dec6-d5c2-4955-8d9f-155e5645f969');\n",
       "                  var text = root.getElementsByClassName('pb-text')[0];\n",
       "                  var fill = root.getElementsByClassName('pb-fill')[0];\n",
       "\n",
       "                  text.innerHTML = 'Simulation finished in 0:00:01.';\n",
       "                  \n",
       "            if (100.0 > 0.) {\n",
       "                fill.style.transition = 'width 0.1s linear';\n",
       "            } else {\n",
       "                fill.style.transition = 'none';\n",
       "            }\n",
       "\n",
       "            fill.style.width = '100.0%';\n",
       "            fill.style.animation = 'none';\n",
       "            fill.style.backgroundImage = 'none'\n",
       "        \n",
       "                  \n",
       "                fill.style.animation = 'none';\n",
       "                fill.style.backgroundImage = 'none';\n",
       "            \n",
       "              })();\n",
       "        </script>"
      ]
     },
     "metadata": {},
     "output_type": "display_data"
    }
   ],
   "source": [
    "model = nengo.Network()\n",
    "with model:\n",
    "    \n",
    "    pre = nengo.Ensemble(n_neurons=1, dimensions=1,gain=[2],bias=[0],encoders=[[1]],neuron_type=MyLIF_in(tau_rc=0.1, min_voltage=-1))\n",
    "    post = nengo.Ensemble(n_neurons=1, dimensions=1,gain=[2],bias=[0],encoders=[[1]],\n",
    "                          neuron_type=MyLIF_in(tau_rc=0.1, min_voltage=-1))\n",
    "    \n",
    "    stim_pre = nengo.Node(lambda t: 1 if ((0.1<t%0.4<0.2) and (t<0.75)) or ((0.1<t%0.4<0.2) and (t>1.25))or((0.1<t%0.4<0.2) and (0.75<t<1.25)) else 0)\n",
    "    stim_post = nengo.Node(lambda t: 1 if ((0.06<t%0.4<0.16) and (t<0.75)) or ((0.14<t%0.4<0.24) and (t>1.25))or((0.14<t%0.4<0.24) and (0.75<t<1.25)) else 0)\n",
    "\n",
    "    nengo.Connection(stim_pre, pre, synapse=None)\n",
    "    nengo.Connection(stim_post, post, synapse=None)\n",
    "    \n",
    "    conn1 = nengo.Connection(\n",
    "            pre.neurons,\n",
    "            post.neurons,\n",
    "            transform=[[0.5]], \n",
    "            learning_rule_type=STDP(learning_rate=0.5,pre_tau=0.1\n",
    "                , post_tau=0.1))\n",
    "    layer1_synapses_probe = nengo.Probe(conn1,\"weights\",label=\"layer1_synapses\")\n",
    "    \n",
    "    p_stim_pre = nengo.Probe(stim_pre)\n",
    "    p_stim_post = nengo.Probe(stim_post)\n",
    "    \n",
    "    p_pre = nengo.Probe(pre.neurons)\n",
    "    p_post = nengo.Probe(post.neurons)\n",
    "    p_pre_v = nengo.Probe(pre.neurons, 'voltage')\n",
    "    p_post_v = nengo.Probe(post.neurons, 'voltage')\n",
    "    \n",
    "    \n",
    "with nengo.Simulator(model, optimize=True) as sim:\n",
    "    \n",
    "    sim.run(2)"
   ]
  },
  {
   "cell_type": "code",
   "execution_count": 68,
   "metadata": {},
   "outputs": [
    {
     "data": {
      "image/png": "[encoded data removed]",
      "text/plain": [
       "<Figure size 509.76x360 with 3 Axes>"
      ]
     },
     "metadata": {
      "needs_background": "light"
     },
     "output_type": "display_data"
    }
   ],
   "source": [
    "weights = sim.data[layer1_synapses_probe]\n",
    "\n",
    "import matplotlib as mpl\n",
    "mpl.rcParams.update({'font.size': 12})\n",
    "\n",
    "plt.figure(figsize=(7.08,5))\n",
    "\n",
    "p1 = plt.subplot(3, 1, 1)\n",
    "plt.plot(sim.trange(), sim.data[p_stim_pre], label='stim')\n",
    "plt.plot(sim.trange(), sim.data[p_pre_v], label='voltage')\n",
    "plt.plot(sim.trange(), sim.data[p_pre]/1000, c='k', label='spikes')\n",
    "plt.ylabel('pre')\n",
    "# plt.legend()\n",
    "# plt.legend(loc='upper right')\n",
    "# , bbox_to_anchor=(1.8, 1)\n",
    "p2 = plt.subplot(3, 1, 2)\n",
    "plt.plot(sim.trange(), sim.data[p_stim_post], label='stim')\n",
    "plt.plot(sim.trange(), sim.data[p_post_v], label='voltage')\n",
    "plt.plot(sim.trange(), sim.data[p_post]/1000, c='k', label='spikes')\n",
    "plt.ylabel('post')\n",
    "# plt.legend()\n",
    "\n",
    "plt.subplot(3, 1, 3)\n",
    "plt.plot(sim.trange(), np.array(weights)[:,0,0], label='weight', c = 'red')\n",
    "plt.ylabel('weight')\n",
    "# plt.legend()\n",
    "plt.tight_layout()\n",
    "\n",
    "# plt.legend(handles=[p1, p2], loc='upper left')\n",
    "\n",
    "plt.savefig('vdsp_example_3.pdf',dpi=500)\n",
    "plt.savefig('vdsp_example_3.svg',dpi=500)\n",
    "plt.savefig('vdsp_example_3.jpeg',dpi=500)"
   ]
  },
  {
   "cell_type": "code",
   "execution_count": 11,
   "metadata": {},
   "outputs": [
    {
     "data": {
      "application/vdom.v1+json": {
       "attributes": {},
       "tagName": "div"
      },
      "text/html": [
       "\n",
       "                <script>\n",
       "                    if (Jupyter.version.split(\".\")[0] < 5) {\n",
       "                        var pb = document.getElementById(\"91da7fb3-5388-4271-86ee-7db1ba55282d\");\n",
       "                        var text = document.createTextNode(\n",
       "                            \"HMTL progress bar requires Jupyter Notebook >= \" +\n",
       "                            \"5.0 or Jupyter Lab. Alternatively, you can use \" +\n",
       "                            \"TerminalProgressBar().\");\n",
       "                        pb.parentNode.insertBefore(text, pb);\n",
       "                    }\n",
       "                </script>\n",
       "                <div id=\"91da7fb3-5388-4271-86ee-7db1ba55282d\" style=\"\n",
       "                    width: 100%;\n",
       "                    border: 1px solid #cfcfcf;\n",
       "                    border-radius: 4px;\n",
       "                    text-align: center;\n",
       "                    position: relative;\">\n",
       "                  <div class=\"pb-text\" style=\"\n",
       "                      position: absolute;\n",
       "                      width: 100%;\">\n",
       "                    0%\n",
       "                  </div>\n",
       "                  <div class=\"pb-fill\" style=\"\n",
       "                      background-color: #bdd2e6;\n",
       "                      width: 0%;\">\n",
       "                    <style type=\"text/css\" scoped=\"scoped\">\n",
       "                        @keyframes pb-fill-anim {\n",
       "                            0% { background-position: 0 0; }\n",
       "                            100% { background-position: 100px 0; }\n",
       "                        }\n",
       "                    </style>\n",
       "                    &nbsp;\n",
       "                  </div>\n",
       "                </div>"
      ],
      "text/plain": [
       "HtmlProgressBar cannot be displayed. Please use the TerminalProgressBar. It can be enabled with `nengo.rc['progress']['progress_bar'] = 'nengo.utils.progress.TerminalProgressBar'`."
      ]
     },
     "metadata": {},
     "output_type": "display_data"
    },
    {
     "data": {
      "application/vdom.v1+json": {
       "attributes": {
        "id": "5ec6178c-dd40-4082-b0ba-59197cebeef7",
        "style": {
         "border": "1px solid #cfcfcf",
         "borderRadius": "4px",
         "boxSizing": "border-box",
         "position": "relative",
         "textAlign": "center",
         "width": "100%"
        }
       },
       "children": [
        {
         "attributes": {
          "class": "pb-text",
          "style": {
           "position": "absolute",
           "width": "100%"
          }
         },
         "children": [
          "Build finished in 0:00:01."
         ],
         "tagName": "div"
        },
        {
         "attributes": {
          "class": "pb-fill",
          "style": {
           "animation": "none",
           "backgroundColor": "#bdd2e6",
           "backgroundImage": "none",
           "backgroundSize": "100px 100%",
           "width": "100%"
          }
         },
         "children": [
          {
           "attributes": {
            "scoped": "scoped",
            "type": "text/css"
           },
           "children": [
            "\n                        @keyframes pb-fill-anim {\n                            0% { background-position: 0 0; }\n                            100% { background-position: 100px 0; }\n                        }}"
           ],
           "tagName": "style"
          },
          " "
         ],
         "tagName": "div"
        }
       ],
       "tagName": "div"
      },
      "text/html": [
       "<script>\n",
       "              (function () {\n",
       "                  var root = document.getElementById('91da7fb3-5388-4271-86ee-7db1ba55282d');\n",
       "                  var text = root.getElementsByClassName('pb-text')[0];\n",
       "                  var fill = root.getElementsByClassName('pb-fill')[0];\n",
       "\n",
       "                  text.innerHTML = 'Build finished in 0:00:01.';\n",
       "                  \n",
       "            fill.style.width = '100%';\n",
       "            fill.style.animation = 'pb-fill-anim 2s linear infinite';\n",
       "            fill.style.backgroundSize = '100px 100%';\n",
       "            fill.style.backgroundImage = 'repeating-linear-gradient(' +\n",
       "                '90deg, #bdd2e6, #edf2f8 40%, #bdd2e6 80%, #bdd2e6)';\n",
       "        \n",
       "                  \n",
       "                fill.style.animation = 'none';\n",
       "                fill.style.backgroundImage = 'none';\n",
       "            \n",
       "              })();\n",
       "        </script>"
      ]
     },
     "metadata": {},
     "output_type": "display_data"
    },
    {
     "data": {
      "application/vdom.v1+json": {
       "attributes": {},
       "tagName": "div"
      },
      "text/html": [
       "\n",
       "                <script>\n",
       "                    if (Jupyter.version.split(\".\")[0] < 5) {\n",
       "                        var pb = document.getElementById(\"b3fbc114-57af-49e8-84ea-658dce6b14a4\");\n",
       "                        var text = document.createTextNode(\n",
       "                            \"HMTL progress bar requires Jupyter Notebook >= \" +\n",
       "                            \"5.0 or Jupyter Lab. Alternatively, you can use \" +\n",
       "                            \"TerminalProgressBar().\");\n",
       "                        pb.parentNode.insertBefore(text, pb);\n",
       "                    }\n",
       "                </script>\n",
       "                <div id=\"b3fbc114-57af-49e8-84ea-658dce6b14a4\" style=\"\n",
       "                    width: 100%;\n",
       "                    border: 1px solid #cfcfcf;\n",
       "                    border-radius: 4px;\n",
       "                    text-align: center;\n",
       "                    position: relative;\">\n",
       "                  <div class=\"pb-text\" style=\"\n",
       "                      position: absolute;\n",
       "                      width: 100%;\">\n",
       "                    0%\n",
       "                  </div>\n",
       "                  <div class=\"pb-fill\" style=\"\n",
       "                      background-color: #bdd2e6;\n",
       "                      width: 0%;\">\n",
       "                    <style type=\"text/css\" scoped=\"scoped\">\n",
       "                        @keyframes pb-fill-anim {\n",
       "                            0% { background-position: 0 0; }\n",
       "                            100% { background-position: 100px 0; }\n",
       "                        }\n",
       "                    </style>\n",
       "                    &nbsp;\n",
       "                  </div>\n",
       "                </div>"
      ],
      "text/plain": [
       "HtmlProgressBar cannot be displayed. Please use the TerminalProgressBar. It can be enabled with `nengo.rc['progress']['progress_bar'] = 'nengo.utils.progress.TerminalProgressBar'`."
      ]
     },
     "metadata": {},
     "output_type": "display_data"
    },
    {
     "data": {
      "application/vdom.v1+json": {
       "attributes": {
        "id": "e3920bdf-6c1d-4bbf-bf10-7f07e6b3a818",
        "style": {
         "border": "1px solid #cfcfcf",
         "borderRadius": "4px",
         "boxSizing": "border-box",
         "position": "relative",
         "textAlign": "center",
         "width": "100%"
        }
       },
       "children": [
        {
         "attributes": {
          "class": "pb-text",
          "style": {
           "position": "absolute",
           "width": "100%"
          }
         },
         "children": [
          "Simulation finished in 0:00:01."
         ],
         "tagName": "div"
        },
        {
         "attributes": {
          "class": "pb-fill",
          "style": {
           "animation": "none",
           "backgroundColor": "#bdd2e6",
           "backgroundImage": "none",
           "transition": "width 0.1s linear",
           "width": "100%"
          }
         },
         "children": [
          {
           "attributes": {
            "scoped": "scoped",
            "type": "text/css"
           },
           "children": [
            "\n                        @keyframes pb-fill-anim {\n                            0% { background-position: 0 0; }\n                            100% { background-position: 100px 0; }\n                        }}"
           ],
           "tagName": "style"
          },
          " "
         ],
         "tagName": "div"
        }
       ],
       "tagName": "div"
      },
      "text/html": [
       "<script>\n",
       "              (function () {\n",
       "                  var root = document.getElementById('b3fbc114-57af-49e8-84ea-658dce6b14a4');\n",
       "                  var text = root.getElementsByClassName('pb-text')[0];\n",
       "                  var fill = root.getElementsByClassName('pb-fill')[0];\n",
       "\n",
       "                  text.innerHTML = 'Simulation finished in 0:00:01.';\n",
       "                  \n",
       "            if (100.0 > 0.) {\n",
       "                fill.style.transition = 'width 0.1s linear';\n",
       "            } else {\n",
       "                fill.style.transition = 'none';\n",
       "            }\n",
       "\n",
       "            fill.style.width = '100.0%';\n",
       "            fill.style.animation = 'none';\n",
       "            fill.style.backgroundImage = 'none'\n",
       "        \n",
       "                  \n",
       "                fill.style.animation = 'none';\n",
       "                fill.style.backgroundImage = 'none';\n",
       "            \n",
       "              })();\n",
       "        </script>"
      ]
     },
     "metadata": {},
     "output_type": "display_data"
    },
    {
     "data": {
      "image/png": "[encoded data removed]",
      "text/plain": [
       "<Figure size 509.76x360 with 3 Axes>"
      ]
     },
     "metadata": {
      "needs_background": "light"
     },
     "output_type": "display_data"
    }
   ],
   "source": [
    "model = nengo.Network()\n",
    "with model:\n",
    "    \n",
    "    pre = nengo.Ensemble(n_neurons=1, dimensions=1,gain=[2],bias=[0],encoders=[[1]],neuron_type=MyLIF_in(tau_rc=0.1, min_voltage=-1))\n",
    "    post = nengo.Ensemble(n_neurons=1, dimensions=1,gain=[2],bias=[0],encoders=[[1]],\n",
    "                          neuron_type=MyLIF_in(tau_rc=0.1, min_voltage=-1))\n",
    "    \n",
    "    stim_pre = nengo.Node(lambda t: 1)\n",
    "    stim_post = nengo.Node(lambda t: 1 if ((0.06<t%0.4<0.16) and (t<0.75)) or ((0.14<t%0.4<0.24) and (t>1.25))or((0.14<t%0.4<0.24) and (0.75<t<1.25)) else 0)\n",
    "\n",
    "    nengo.Connection(stim_pre, pre, synapse=None)\n",
    "    nengo.Connection(stim_post, post, synapse=None)\n",
    "    \n",
    "    #Weight node implementing the VDSP rule\n",
    "    w = nengo.Node(CustomRule_post_baseline(winit_min=0.5, winit_max=0.5, lr=0.001), size_in=1, size_out=1)\n",
    "    nengo.Connection(pre.neurons, w, synapse=None)\n",
    "    nengo.Connection(w, post.neurons, transform=[0],synapse=None) #The synapse does not contribute to the post neuron membrane voltage\n",
    "    \n",
    "    \n",
    "    \n",
    "    p_stim_pre = nengo.Probe(stim_pre)\n",
    "    p_stim_post = nengo.Probe(stim_post)\n",
    "    \n",
    "    p_pre = nengo.Probe(pre.neurons)\n",
    "    p_post = nengo.Probe(post.neurons)\n",
    "    p_pre_v = nengo.Probe(pre.neurons, 'voltage')\n",
    "    p_post_v = nengo.Probe(post.neurons, 'voltage')\n",
    "    \n",
    "    weights = w.output.history\n",
    "    \n",
    "with nengo.Simulator(model, optimize=True) as sim:\n",
    "        \n",
    "    w.output.set_signal_vmem(sim.signals[sim.model.sig[pre.neurons][\"voltage\"]])\n",
    "    w.output.set_signal_out(sim.signals[sim.model.sig[post.neurons][\"out\"]])    \n",
    "    \n",
    "    sim.run(2)\n",
    "    \n",
    "    \n",
    "import matplotlib as mpl\n",
    "mpl.rcParams.update({'font.size': 12})\n",
    "\n",
    "plt.figure(figsize=(7.08,5))\n",
    "\n",
    "p1 = plt.subplot(3, 1, 1)\n",
    "plt.plot(sim.trange(), sim.data[p_stim_pre], label='stim')\n",
    "plt.plot(sim.trange(), sim.data[p_pre_v], label='voltage')\n",
    "plt.plot(sim.trange(), sim.data[p_pre]/1000, c='k', label='spikes')\n",
    "plt.ylabel('pre')\n",
    "# plt.legend()\n",
    "# plt.legend(loc='upper right')\n",
    "# , bbox_to_anchor=(1.8, 1)\n",
    "p2 = plt.subplot(3, 1, 2)\n",
    "plt.plot(sim.trange(), sim.data[p_stim_post], label='stim')\n",
    "plt.plot(sim.trange(), sim.data[p_post_v], label='voltage')\n",
    "plt.plot(sim.trange(), sim.data[p_post]/1000, c='k', label='spikes')\n",
    "plt.ylabel('post')\n",
    "# plt.legend()\n",
    "\n",
    "plt.subplot(3, 1, 3)\n",
    "plt.plot(sim.trange(), np.array(weights)[:,0,0], label='weight', c = 'red')\n",
    "plt.ylabel('weight')\n",
    "# plt.legend()\n",
    "plt.tight_layout()"
   ]
  },
  {
   "cell_type": "code",
   "execution_count": 10,
   "metadata": {},
   "outputs": [
    {
     "data": {
      "image/png": "[encoded data removed]",
      "text/plain": [
       "<Figure size 509.76x360 with 3 Axes>"
      ]
     },
     "metadata": {
      "needs_background": "light"
     },
     "output_type": "display_data"
    }
   ],
   "source": []
  },
  {
   "cell_type": "markdown",
   "metadata": {},
   "source": [
    "# Step 3 : Now we characterize the VDSP by running the simulation for longer period and plotting the pairs of vmem, dW, and dtau"
   ]
  },
  {
   "cell_type": "code",
   "execution_count": 9,
   "metadata": {},
   "outputs": [],
   "source": [
    "process = nengo.processes.WhiteNoise(dist=nengo.dists.Gaussian(0.1, 1), seed=1)"
   ]
  },
  {
   "cell_type": "code",
   "execution_count": 17,
   "metadata": {},
   "outputs": [
    {
     "data": {
      "application/vdom.v1+json": {
       "attributes": {},
       "tagName": "div"
      },
      "text/html": [
       "\n",
       "                <script>\n",
       "                    if (Jupyter.version.split(\".\")[0] < 5) {\n",
       "                        var pb = document.getElementById(\"e035c0a1-bb86-4454-a20c-f5b22173766b\");\n",
       "                        var text = document.createTextNode(\n",
       "                            \"HMTL progress bar requires Jupyter Notebook >= \" +\n",
       "                            \"5.0 or Jupyter Lab. Alternatively, you can use \" +\n",
       "                            \"TerminalProgressBar().\");\n",
       "                        pb.parentNode.insertBefore(text, pb);\n",
       "                    }\n",
       "                </script>\n",
       "                <div id=\"e035c0a1-bb86-4454-a20c-f5b22173766b\" style=\"\n",
       "                    width: 100%;\n",
       "                    border: 1px solid #cfcfcf;\n",
       "                    border-radius: 4px;\n",
       "                    text-align: center;\n",
       "                    position: relative;\">\n",
       "                  <div class=\"pb-text\" style=\"\n",
       "                      position: absolute;\n",
       "                      width: 100%;\">\n",
       "                    0%\n",
       "                  </div>\n",
       "                  <div class=\"pb-fill\" style=\"\n",
       "                      background-color: #bdd2e6;\n",
       "                      width: 0%;\">\n",
       "                    <style type=\"text/css\" scoped=\"scoped\">\n",
       "                        @keyframes pb-fill-anim {\n",
       "                            0% { background-position: 0 0; }\n",
       "                            100% { background-position: 100px 0; }\n",
       "                        }\n",
       "                    </style>\n",
       "                    &nbsp;\n",
       "                  </div>\n",
       "                </div>"
      ],
      "text/plain": [
       "HtmlProgressBar cannot be displayed. Please use the TerminalProgressBar. It can be enabled with `nengo.rc['progress']['progress_bar'] = 'nengo.utils.progress.TerminalProgressBar'`."
      ]
     },
     "metadata": {},
     "output_type": "display_data"
    },
    {
     "data": {
      "application/vdom.v1+json": {
       "attributes": {
        "id": "97dad856-0962-43dc-81d8-cdcd330b659b",
        "style": {
         "border": "1px solid #cfcfcf",
         "borderRadius": "4px",
         "boxSizing": "border-box",
         "position": "relative",
         "textAlign": "center",
         "width": "100%"
        }
       },
       "children": [
        {
         "attributes": {
          "class": "pb-text",
          "style": {
           "position": "absolute",
           "width": "100%"
          }
         },
         "children": [
          "Build finished in 0:00:01."
         ],
         "tagName": "div"
        },
        {
         "attributes": {
          "class": "pb-fill",
          "style": {
           "animation": "none",
           "backgroundColor": "#bdd2e6",
           "backgroundImage": "none",
           "backgroundSize": "100px 100%",
           "width": "100%"
          }
         },
         "children": [
          {
           "attributes": {
            "scoped": "scoped",
            "type": "text/css"
           },
           "children": [
            "\n                        @keyframes pb-fill-anim {\n                            0% { background-position: 0 0; }\n                            100% { background-position: 100px 0; }\n                        }}"
           ],
           "tagName": "style"
          },
          " "
         ],
         "tagName": "div"
        }
       ],
       "tagName": "div"
      },
      "text/html": [
       "<script>\n",
       "              (function () {\n",
       "                  var root = document.getElementById('e035c0a1-bb86-4454-a20c-f5b22173766b');\n",
       "                  var text = root.getElementsByClassName('pb-text')[0];\n",
       "                  var fill = root.getElementsByClassName('pb-fill')[0];\n",
       "\n",
       "                  text.innerHTML = 'Build finished in 0:00:01.';\n",
       "                  \n",
       "            fill.style.width = '100%';\n",
       "            fill.style.animation = 'pb-fill-anim 2s linear infinite';\n",
       "            fill.style.backgroundSize = '100px 100%';\n",
       "            fill.style.backgroundImage = 'repeating-linear-gradient(' +\n",
       "                '90deg, #bdd2e6, #edf2f8 40%, #bdd2e6 80%, #bdd2e6)';\n",
       "        \n",
       "                  \n",
       "                fill.style.animation = 'none';\n",
       "                fill.style.backgroundImage = 'none';\n",
       "            \n",
       "              })();\n",
       "        </script>"
      ]
     },
     "metadata": {},
     "output_type": "display_data"
    },
    {
     "data": {
      "application/vdom.v1+json": {
       "attributes": {},
       "tagName": "div"
      },
      "text/html": [
       "\n",
       "                <script>\n",
       "                    if (Jupyter.version.split(\".\")[0] < 5) {\n",
       "                        var pb = document.getElementById(\"e86d2576-ce8a-4ea0-9cd4-d8ff4b6cdfa8\");\n",
       "                        var text = document.createTextNode(\n",
       "                            \"HMTL progress bar requires Jupyter Notebook >= \" +\n",
       "                            \"5.0 or Jupyter Lab. Alternatively, you can use \" +\n",
       "                            \"TerminalProgressBar().\");\n",
       "                        pb.parentNode.insertBefore(text, pb);\n",
       "                    }\n",
       "                </script>\n",
       "                <div id=\"e86d2576-ce8a-4ea0-9cd4-d8ff4b6cdfa8\" style=\"\n",
       "                    width: 100%;\n",
       "                    border: 1px solid #cfcfcf;\n",
       "                    border-radius: 4px;\n",
       "                    text-align: center;\n",
       "                    position: relative;\">\n",
       "                  <div class=\"pb-text\" style=\"\n",
       "                      position: absolute;\n",
       "                      width: 100%;\">\n",
       "                    0%\n",
       "                  </div>\n",
       "                  <div class=\"pb-fill\" style=\"\n",
       "                      background-color: #bdd2e6;\n",
       "                      width: 0%;\">\n",
       "                    <style type=\"text/css\" scoped=\"scoped\">\n",
       "                        @keyframes pb-fill-anim {\n",
       "                            0% { background-position: 0 0; }\n",
       "                            100% { background-position: 100px 0; }\n",
       "                        }\n",
       "                    </style>\n",
       "                    &nbsp;\n",
       "                  </div>\n",
       "                </div>"
      ],
      "text/plain": [
       "HtmlProgressBar cannot be displayed. Please use the TerminalProgressBar. It can be enabled with `nengo.rc['progress']['progress_bar'] = 'nengo.utils.progress.TerminalProgressBar'`."
      ]
     },
     "metadata": {},
     "output_type": "display_data"
    },
    {
     "data": {
      "application/vdom.v1+json": {
       "attributes": {
        "id": "a34a9d0f-b87d-4dc4-8eef-f6991dc22a33",
        "style": {
         "border": "1px solid #cfcfcf",
         "borderRadius": "4px",
         "boxSizing": "border-box",
         "position": "relative",
         "textAlign": "center",
         "width": "100%"
        }
       },
       "children": [
        {
         "attributes": {
          "class": "pb-text",
          "style": {
           "position": "absolute",
           "width": "100%"
          }
         },
         "children": [
          "Simulation finished in 0:23:18."
         ],
         "tagName": "div"
        },
        {
         "attributes": {
          "class": "pb-fill",
          "style": {
           "animation": "none",
           "backgroundColor": "#bdd2e6",
           "backgroundImage": "none",
           "transition": "width 0.1s linear",
           "width": "100%"
          }
         },
         "children": [
          {
           "attributes": {
            "scoped": "scoped",
            "type": "text/css"
           },
           "children": [
            "\n                        @keyframes pb-fill-anim {\n                            0% { background-position: 0 0; }\n                            100% { background-position: 100px 0; }\n                        }}"
           ],
           "tagName": "style"
          },
          " "
         ],
         "tagName": "div"
        }
       ],
       "tagName": "div"
      },
      "text/html": [
       "<script>\n",
       "              (function () {\n",
       "                  var root = document.getElementById('e86d2576-ce8a-4ea0-9cd4-d8ff4b6cdfa8');\n",
       "                  var text = root.getElementsByClassName('pb-text')[0];\n",
       "                  var fill = root.getElementsByClassName('pb-fill')[0];\n",
       "\n",
       "                  text.innerHTML = 'Simulation finished in 0:23:18.';\n",
       "                  \n",
       "            if (100.0 > 0.) {\n",
       "                fill.style.transition = 'width 0.1s linear';\n",
       "            } else {\n",
       "                fill.style.transition = 'none';\n",
       "            }\n",
       "\n",
       "            fill.style.width = '100.0%';\n",
       "            fill.style.animation = 'none';\n",
       "            fill.style.backgroundImage = 'none'\n",
       "        \n",
       "                  \n",
       "                fill.style.animation = 'none';\n",
       "                fill.style.backgroundImage = 'none';\n",
       "            \n",
       "              })();\n",
       "        </script>"
      ]
     },
     "metadata": {},
     "output_type": "display_data"
    },
    {
     "data": {
      "application/vdom.v1+json": {
       "attributes": {},
       "tagName": "div"
      },
      "text/html": [
       "\n",
       "                <script>\n",
       "                    if (Jupyter.version.split(\".\")[0] < 5) {\n",
       "                        var pb = document.getElementById(\"e465c435-79f1-4fcd-bf3b-a299f7507a15\");\n",
       "                        var text = document.createTextNode(\n",
       "                            \"HMTL progress bar requires Jupyter Notebook >= \" +\n",
       "                            \"5.0 or Jupyter Lab. Alternatively, you can use \" +\n",
       "                            \"TerminalProgressBar().\");\n",
       "                        pb.parentNode.insertBefore(text, pb);\n",
       "                    }\n",
       "                </script>\n",
       "                <div id=\"e465c435-79f1-4fcd-bf3b-a299f7507a15\" style=\"\n",
       "                    width: 100%;\n",
       "                    border: 1px solid #cfcfcf;\n",
       "                    border-radius: 4px;\n",
       "                    text-align: center;\n",
       "                    position: relative;\">\n",
       "                  <div class=\"pb-text\" style=\"\n",
       "                      position: absolute;\n",
       "                      width: 100%;\">\n",
       "                    0%\n",
       "                  </div>\n",
       "                  <div class=\"pb-fill\" style=\"\n",
       "                      background-color: #bdd2e6;\n",
       "                      width: 0%;\">\n",
       "                    <style type=\"text/css\" scoped=\"scoped\">\n",
       "                        @keyframes pb-fill-anim {\n",
       "                            0% { background-position: 0 0; }\n",
       "                            100% { background-position: 100px 0; }\n",
       "                        }\n",
       "                    </style>\n",
       "                    &nbsp;\n",
       "                  </div>\n",
       "                </div>"
      ],
      "text/plain": [
       "HtmlProgressBar cannot be displayed. Please use the TerminalProgressBar. It can be enabled with `nengo.rc['progress']['progress_bar'] = 'nengo.utils.progress.TerminalProgressBar'`."
      ]
     },
     "metadata": {},
     "output_type": "display_data"
    },
    {
     "data": {
      "application/vdom.v1+json": {
       "attributes": {
        "id": "664b41eb-ea16-4910-82a7-729df4e80e7f",
        "style": {
         "border": "1px solid #cfcfcf",
         "borderRadius": "4px",
         "boxSizing": "border-box",
         "position": "relative",
         "textAlign": "center",
         "width": "100%"
        }
       },
       "children": [
        {
         "attributes": {
          "class": "pb-text",
          "style": {
           "position": "absolute",
           "width": "100%"
          }
         },
         "children": [
          "Build finished in 0:00:01."
         ],
         "tagName": "div"
        },
        {
         "attributes": {
          "class": "pb-fill",
          "style": {
           "animation": "none",
           "backgroundColor": "#bdd2e6",
           "backgroundImage": "none",
           "backgroundSize": "100px 100%",
           "width": "100%"
          }
         },
         "children": [
          {
           "attributes": {
            "scoped": "scoped",
            "type": "text/css"
           },
           "children": [
            "\n                        @keyframes pb-fill-anim {\n                            0% { background-position: 0 0; }\n                            100% { background-position: 100px 0; }\n                        }}"
           ],
           "tagName": "style"
          },
          " "
         ],
         "tagName": "div"
        }
       ],
       "tagName": "div"
      },
      "text/html": [
       "<script>\n",
       "              (function () {\n",
       "                  var root = document.getElementById('e465c435-79f1-4fcd-bf3b-a299f7507a15');\n",
       "                  var text = root.getElementsByClassName('pb-text')[0];\n",
       "                  var fill = root.getElementsByClassName('pb-fill')[0];\n",
       "\n",
       "                  text.innerHTML = 'Build finished in 0:00:01.';\n",
       "                  \n",
       "            fill.style.width = '100%';\n",
       "            fill.style.animation = 'pb-fill-anim 2s linear infinite';\n",
       "            fill.style.backgroundSize = '100px 100%';\n",
       "            fill.style.backgroundImage = 'repeating-linear-gradient(' +\n",
       "                '90deg, #bdd2e6, #edf2f8 40%, #bdd2e6 80%, #bdd2e6)';\n",
       "        \n",
       "                  \n",
       "                fill.style.animation = 'none';\n",
       "                fill.style.backgroundImage = 'none';\n",
       "            \n",
       "              })();\n",
       "        </script>"
      ]
     },
     "metadata": {},
     "output_type": "display_data"
    },
    {
     "data": {
      "application/vdom.v1+json": {
       "attributes": {},
       "tagName": "div"
      },
      "text/html": [
       "\n",
       "                <script>\n",
       "                    if (Jupyter.version.split(\".\")[0] < 5) {\n",
       "                        var pb = document.getElementById(\"e4b6e677-b45f-465e-ac83-bee7f625bd2d\");\n",
       "                        var text = document.createTextNode(\n",
       "                            \"HMTL progress bar requires Jupyter Notebook >= \" +\n",
       "                            \"5.0 or Jupyter Lab. Alternatively, you can use \" +\n",
       "                            \"TerminalProgressBar().\");\n",
       "                        pb.parentNode.insertBefore(text, pb);\n",
       "                    }\n",
       "                </script>\n",
       "                <div id=\"e4b6e677-b45f-465e-ac83-bee7f625bd2d\" style=\"\n",
       "                    width: 100%;\n",
       "                    border: 1px solid #cfcfcf;\n",
       "                    border-radius: 4px;\n",
       "                    text-align: center;\n",
       "                    position: relative;\">\n",
       "                  <div class=\"pb-text\" style=\"\n",
       "                      position: absolute;\n",
       "                      width: 100%;\">\n",
       "                    0%\n",
       "                  </div>\n",
       "                  <div class=\"pb-fill\" style=\"\n",
       "                      background-color: #bdd2e6;\n",
       "                      width: 0%;\">\n",
       "                    <style type=\"text/css\" scoped=\"scoped\">\n",
       "                        @keyframes pb-fill-anim {\n",
       "                            0% { background-position: 0 0; }\n",
       "                            100% { background-position: 100px 0; }\n",
       "                        }\n",
       "                    </style>\n",
       "                    &nbsp;\n",
       "                  </div>\n",
       "                </div>"
      ],
      "text/plain": [
       "HtmlProgressBar cannot be displayed. Please use the TerminalProgressBar. It can be enabled with `nengo.rc['progress']['progress_bar'] = 'nengo.utils.progress.TerminalProgressBar'`."
      ]
     },
     "metadata": {},
     "output_type": "display_data"
    },
    {
     "data": {
      "application/vdom.v1+json": {
       "attributes": {
        "id": "72d86a69-a58c-49f5-b008-fb15daca39f1",
        "style": {
         "border": "1px solid #cfcfcf",
         "borderRadius": "4px",
         "boxSizing": "border-box",
         "position": "relative",
         "textAlign": "center",
         "width": "100%"
        }
       },
       "children": [
        {
         "attributes": {
          "class": "pb-text",
          "style": {
           "position": "absolute",
           "width": "100%"
          }
         },
         "children": [
          "Simulation finished in 0:20:41."
         ],
         "tagName": "div"
        },
        {
         "attributes": {
          "class": "pb-fill",
          "style": {
           "animation": "none",
           "backgroundColor": "#bdd2e6",
           "backgroundImage": "none",
           "transition": "width 0.1s linear",
           "width": "100%"
          }
         },
         "children": [
          {
           "attributes": {
            "scoped": "scoped",
            "type": "text/css"
           },
           "children": [
            "\n                        @keyframes pb-fill-anim {\n                            0% { background-position: 0 0; }\n                            100% { background-position: 100px 0; }\n                        }}"
           ],
           "tagName": "style"
          },
          " "
         ],
         "tagName": "div"
        }
       ],
       "tagName": "div"
      },
      "text/html": [
       "<script>\n",
       "              (function () {\n",
       "                  var root = document.getElementById('e4b6e677-b45f-465e-ac83-bee7f625bd2d');\n",
       "                  var text = root.getElementsByClassName('pb-text')[0];\n",
       "                  var fill = root.getElementsByClassName('pb-fill')[0];\n",
       "\n",
       "                  text.innerHTML = 'Simulation finished in 0:20:41.';\n",
       "                  \n",
       "            if (100.0 > 0.) {\n",
       "                fill.style.transition = 'width 0.1s linear';\n",
       "            } else {\n",
       "                fill.style.transition = 'none';\n",
       "            }\n",
       "\n",
       "            fill.style.width = '100.0%';\n",
       "            fill.style.animation = 'none';\n",
       "            fill.style.backgroundImage = 'none'\n",
       "        \n",
       "                  \n",
       "                fill.style.animation = 'none';\n",
       "                fill.style.backgroundImage = 'none';\n",
       "            \n",
       "              })();\n",
       "        </script>"
      ]
     },
     "metadata": {},
     "output_type": "display_data"
    },
    {
     "data": {
      "application/vdom.v1+json": {
       "attributes": {},
       "tagName": "div"
      },
      "text/html": [
       "\n",
       "                <script>\n",
       "                    if (Jupyter.version.split(\".\")[0] < 5) {\n",
       "                        var pb = document.getElementById(\"2c5ecba5-c879-4720-aa34-994f1f34c095\");\n",
       "                        var text = document.createTextNode(\n",
       "                            \"HMTL progress bar requires Jupyter Notebook >= \" +\n",
       "                            \"5.0 or Jupyter Lab. Alternatively, you can use \" +\n",
       "                            \"TerminalProgressBar().\");\n",
       "                        pb.parentNode.insertBefore(text, pb);\n",
       "                    }\n",
       "                </script>\n",
       "                <div id=\"2c5ecba5-c879-4720-aa34-994f1f34c095\" style=\"\n",
       "                    width: 100%;\n",
       "                    border: 1px solid #cfcfcf;\n",
       "                    border-radius: 4px;\n",
       "                    text-align: center;\n",
       "                    position: relative;\">\n",
       "                  <div class=\"pb-text\" style=\"\n",
       "                      position: absolute;\n",
       "                      width: 100%;\">\n",
       "                    0%\n",
       "                  </div>\n",
       "                  <div class=\"pb-fill\" style=\"\n",
       "                      background-color: #bdd2e6;\n",
       "                      width: 0%;\">\n",
       "                    <style type=\"text/css\" scoped=\"scoped\">\n",
       "                        @keyframes pb-fill-anim {\n",
       "                            0% { background-position: 0 0; }\n",
       "                            100% { background-position: 100px 0; }\n",
       "                        }\n",
       "                    </style>\n",
       "                    &nbsp;\n",
       "                  </div>\n",
       "                </div>"
      ],
      "text/plain": [
       "HtmlProgressBar cannot be displayed. Please use the TerminalProgressBar. It can be enabled with `nengo.rc['progress']['progress_bar'] = 'nengo.utils.progress.TerminalProgressBar'`."
      ]
     },
     "metadata": {},
     "output_type": "display_data"
    },
    {
     "data": {
      "application/vdom.v1+json": {
       "attributes": {
        "id": "15feff31-8a07-4f25-a742-6dee04dc350a",
        "style": {
         "border": "1px solid #cfcfcf",
         "borderRadius": "4px",
         "boxSizing": "border-box",
         "position": "relative",
         "textAlign": "center",
         "width": "100%"
        }
       },
       "children": [
        {
         "attributes": {
          "class": "pb-text",
          "style": {
           "position": "absolute",
           "width": "100%"
          }
         },
         "children": [
          "Build finished in 0:00:01."
         ],
         "tagName": "div"
        },
        {
         "attributes": {
          "class": "pb-fill",
          "style": {
           "animation": "none",
           "backgroundColor": "#bdd2e6",
           "backgroundImage": "none",
           "backgroundSize": "100px 100%",
           "width": "100%"
          }
         },
         "children": [
          {
           "attributes": {
            "scoped": "scoped",
            "type": "text/css"
           },
           "children": [
            "\n                        @keyframes pb-fill-anim {\n                            0% { background-position: 0 0; }\n                            100% { background-position: 100px 0; }\n                        }}"
           ],
           "tagName": "style"
          },
          " "
         ],
         "tagName": "div"
        }
       ],
       "tagName": "div"
      },
      "text/html": [
       "<script>\n",
       "              (function () {\n",
       "                  var root = document.getElementById('2c5ecba5-c879-4720-aa34-994f1f34c095');\n",
       "                  var text = root.getElementsByClassName('pb-text')[0];\n",
       "                  var fill = root.getElementsByClassName('pb-fill')[0];\n",
       "\n",
       "                  text.innerHTML = 'Build finished in 0:00:01.';\n",
       "                  \n",
       "            fill.style.width = '100%';\n",
       "            fill.style.animation = 'pb-fill-anim 2s linear infinite';\n",
       "            fill.style.backgroundSize = '100px 100%';\n",
       "            fill.style.backgroundImage = 'repeating-linear-gradient(' +\n",
       "                '90deg, #bdd2e6, #edf2f8 40%, #bdd2e6 80%, #bdd2e6)';\n",
       "        \n",
       "                  \n",
       "                fill.style.animation = 'none';\n",
       "                fill.style.backgroundImage = 'none';\n",
       "            \n",
       "              })();\n",
       "        </script>"
      ]
     },
     "metadata": {},
     "output_type": "display_data"
    },
    {
     "data": {
      "application/vdom.v1+json": {
       "attributes": {},
       "tagName": "div"
      },
      "text/html": [
       "\n",
       "                <script>\n",
       "                    if (Jupyter.version.split(\".\")[0] < 5) {\n",
       "                        var pb = document.getElementById(\"d86f529a-3dc5-45a3-aa6d-826611c2b4df\");\n",
       "                        var text = document.createTextNode(\n",
       "                            \"HMTL progress bar requires Jupyter Notebook >= \" +\n",
       "                            \"5.0 or Jupyter Lab. Alternatively, you can use \" +\n",
       "                            \"TerminalProgressBar().\");\n",
       "                        pb.parentNode.insertBefore(text, pb);\n",
       "                    }\n",
       "                </script>\n",
       "                <div id=\"d86f529a-3dc5-45a3-aa6d-826611c2b4df\" style=\"\n",
       "                    width: 100%;\n",
       "                    border: 1px solid #cfcfcf;\n",
       "                    border-radius: 4px;\n",
       "                    text-align: center;\n",
       "                    position: relative;\">\n",
       "                  <div class=\"pb-text\" style=\"\n",
       "                      position: absolute;\n",
       "                      width: 100%;\">\n",
       "                    0%\n",
       "                  </div>\n",
       "                  <div class=\"pb-fill\" style=\"\n",
       "                      background-color: #bdd2e6;\n",
       "                      width: 0%;\">\n",
       "                    <style type=\"text/css\" scoped=\"scoped\">\n",
       "                        @keyframes pb-fill-anim {\n",
       "                            0% { background-position: 0 0; }\n",
       "                            100% { background-position: 100px 0; }\n",
       "                        }\n",
       "                    </style>\n",
       "                    &nbsp;\n",
       "                  </div>\n",
       "                </div>"
      ],
      "text/plain": [
       "HtmlProgressBar cannot be displayed. Please use the TerminalProgressBar. It can be enabled with `nengo.rc['progress']['progress_bar'] = 'nengo.utils.progress.TerminalProgressBar'`."
      ]
     },
     "metadata": {},
     "output_type": "display_data"
    },
    {
     "data": {
      "application/vdom.v1+json": {
       "attributes": {
        "id": "f196ca99-1dfc-47fe-a18d-f653db63d71d",
        "style": {
         "border": "1px solid #cfcfcf",
         "borderRadius": "4px",
         "boxSizing": "border-box",
         "position": "relative",
         "textAlign": "center",
         "width": "100%"
        }
       },
       "children": [
        {
         "attributes": {
          "class": "pb-text",
          "style": {
           "position": "absolute",
           "width": "100%"
          }
         },
         "children": [
          "Simulation finished in 0:19:52."
         ],
         "tagName": "div"
        },
        {
         "attributes": {
          "class": "pb-fill",
          "style": {
           "animation": "none",
           "backgroundColor": "#bdd2e6",
           "backgroundImage": "none",
           "transition": "width 0.1s linear",
           "width": "100%"
          }
         },
         "children": [
          {
           "attributes": {
            "scoped": "scoped",
            "type": "text/css"
           },
           "children": [
            "\n                        @keyframes pb-fill-anim {\n                            0% { background-position: 0 0; }\n                            100% { background-position: 100px 0; }\n                        }}"
           ],
           "tagName": "style"
          },
          " "
         ],
         "tagName": "div"
        }
       ],
       "tagName": "div"
      },
      "text/html": [
       "<script>\n",
       "              (function () {\n",
       "                  var root = document.getElementById('d86f529a-3dc5-45a3-aa6d-826611c2b4df');\n",
       "                  var text = root.getElementsByClassName('pb-text')[0];\n",
       "                  var fill = root.getElementsByClassName('pb-fill')[0];\n",
       "\n",
       "                  text.innerHTML = 'Simulation finished in 0:19:52.';\n",
       "                  \n",
       "            if (100.0 > 0.) {\n",
       "                fill.style.transition = 'width 0.1s linear';\n",
       "            } else {\n",
       "                fill.style.transition = 'none';\n",
       "            }\n",
       "\n",
       "            fill.style.width = '100.0%';\n",
       "            fill.style.animation = 'none';\n",
       "            fill.style.backgroundImage = 'none'\n",
       "        \n",
       "                  \n",
       "                fill.style.animation = 'none';\n",
       "                fill.style.backgroundImage = 'none';\n",
       "            \n",
       "              })();\n",
       "        </script>"
      ]
     },
     "metadata": {},
     "output_type": "display_data"
    },
    {
     "data": {
      "application/vdom.v1+json": {
       "attributes": {},
       "tagName": "div"
      },
      "text/html": [
       "\n",
       "                <script>\n",
       "                    if (Jupyter.version.split(\".\")[0] < 5) {\n",
       "                        var pb = document.getElementById(\"88a8949d-4ded-468c-abd6-ffcb732126b1\");\n",
       "                        var text = document.createTextNode(\n",
       "                            \"HMTL progress bar requires Jupyter Notebook >= \" +\n",
       "                            \"5.0 or Jupyter Lab. Alternatively, you can use \" +\n",
       "                            \"TerminalProgressBar().\");\n",
       "                        pb.parentNode.insertBefore(text, pb);\n",
       "                    }\n",
       "                </script>\n",
       "                <div id=\"88a8949d-4ded-468c-abd6-ffcb732126b1\" style=\"\n",
       "                    width: 100%;\n",
       "                    border: 1px solid #cfcfcf;\n",
       "                    border-radius: 4px;\n",
       "                    text-align: center;\n",
       "                    position: relative;\">\n",
       "                  <div class=\"pb-text\" style=\"\n",
       "                      position: absolute;\n",
       "                      width: 100%;\">\n",
       "                    0%\n",
       "                  </div>\n",
       "                  <div class=\"pb-fill\" style=\"\n",
       "                      background-color: #bdd2e6;\n",
       "                      width: 0%;\">\n",
       "                    <style type=\"text/css\" scoped=\"scoped\">\n",
       "                        @keyframes pb-fill-anim {\n",
       "                            0% { background-position: 0 0; }\n",
       "                            100% { background-position: 100px 0; }\n",
       "                        }\n",
       "                    </style>\n",
       "                    &nbsp;\n",
       "                  </div>\n",
       "                </div>"
      ],
      "text/plain": [
       "HtmlProgressBar cannot be displayed. Please use the TerminalProgressBar. It can be enabled with `nengo.rc['progress']['progress_bar'] = 'nengo.utils.progress.TerminalProgressBar'`."
      ]
     },
     "metadata": {},
     "output_type": "display_data"
    },
    {
     "data": {
      "application/vdom.v1+json": {
       "attributes": {
        "id": "4fcf64ae-5db5-48bd-84d2-c39f2af273e7",
        "style": {
         "border": "1px solid #cfcfcf",
         "borderRadius": "4px",
         "boxSizing": "border-box",
         "position": "relative",
         "textAlign": "center",
         "width": "100%"
        }
       },
       "children": [
        {
         "attributes": {
          "class": "pb-text",
          "style": {
           "position": "absolute",
           "width": "100%"
          }
         },
         "children": [
          "Build finished in 0:00:01."
         ],
         "tagName": "div"
        },
        {
         "attributes": {
          "class": "pb-fill",
          "style": {
           "animation": "none",
           "backgroundColor": "#bdd2e6",
           "backgroundImage": "none",
           "backgroundSize": "100px 100%",
           "width": "100%"
          }
         },
         "children": [
          {
           "attributes": {
            "scoped": "scoped",
            "type": "text/css"
           },
           "children": [
            "\n                        @keyframes pb-fill-anim {\n                            0% { background-position: 0 0; }\n                            100% { background-position: 100px 0; }\n                        }}"
           ],
           "tagName": "style"
          },
          " "
         ],
         "tagName": "div"
        }
       ],
       "tagName": "div"
      },
      "text/html": [
       "<script>\n",
       "              (function () {\n",
       "                  var root = document.getElementById('88a8949d-4ded-468c-abd6-ffcb732126b1');\n",
       "                  var text = root.getElementsByClassName('pb-text')[0];\n",
       "                  var fill = root.getElementsByClassName('pb-fill')[0];\n",
       "\n",
       "                  text.innerHTML = 'Build finished in 0:00:01.';\n",
       "                  \n",
       "            fill.style.width = '100%';\n",
       "            fill.style.animation = 'pb-fill-anim 2s linear infinite';\n",
       "            fill.style.backgroundSize = '100px 100%';\n",
       "            fill.style.backgroundImage = 'repeating-linear-gradient(' +\n",
       "                '90deg, #bdd2e6, #edf2f8 40%, #bdd2e6 80%, #bdd2e6)';\n",
       "        \n",
       "                  \n",
       "                fill.style.animation = 'none';\n",
       "                fill.style.backgroundImage = 'none';\n",
       "            \n",
       "              })();\n",
       "        </script>"
      ]
     },
     "metadata": {},
     "output_type": "display_data"
    },
    {
     "data": {
      "application/vdom.v1+json": {
       "attributes": {},
       "tagName": "div"
      },
      "text/html": [
       "\n",
       "                <script>\n",
       "                    if (Jupyter.version.split(\".\")[0] < 5) {\n",
       "                        var pb = document.getElementById(\"7d136caa-49fb-437b-b2af-0c9415a6fe19\");\n",
       "                        var text = document.createTextNode(\n",
       "                            \"HMTL progress bar requires Jupyter Notebook >= \" +\n",
       "                            \"5.0 or Jupyter Lab. Alternatively, you can use \" +\n",
       "                            \"TerminalProgressBar().\");\n",
       "                        pb.parentNode.insertBefore(text, pb);\n",
       "                    }\n",
       "                </script>\n",
       "                <div id=\"7d136caa-49fb-437b-b2af-0c9415a6fe19\" style=\"\n",
       "                    width: 100%;\n",
       "                    border: 1px solid #cfcfcf;\n",
       "                    border-radius: 4px;\n",
       "                    text-align: center;\n",
       "                    position: relative;\">\n",
       "                  <div class=\"pb-text\" style=\"\n",
       "                      position: absolute;\n",
       "                      width: 100%;\">\n",
       "                    0%\n",
       "                  </div>\n",
       "                  <div class=\"pb-fill\" style=\"\n",
       "                      background-color: #bdd2e6;\n",
       "                      width: 0%;\">\n",
       "                    <style type=\"text/css\" scoped=\"scoped\">\n",
       "                        @keyframes pb-fill-anim {\n",
       "                            0% { background-position: 0 0; }\n",
       "                            100% { background-position: 100px 0; }\n",
       "                        }\n",
       "                    </style>\n",
       "                    &nbsp;\n",
       "                  </div>\n",
       "                </div>"
      ],
      "text/plain": [
       "HtmlProgressBar cannot be displayed. Please use the TerminalProgressBar. It can be enabled with `nengo.rc['progress']['progress_bar'] = 'nengo.utils.progress.TerminalProgressBar'`."
      ]
     },
     "metadata": {},
     "output_type": "display_data"
    },
    {
     "data": {
      "application/vdom.v1+json": {
       "attributes": {
        "id": "a7f93543-e961-46ed-acb5-952ea6ddaab8",
        "style": {
         "border": "1px solid #cfcfcf",
         "borderRadius": "4px",
         "boxSizing": "border-box",
         "position": "relative",
         "textAlign": "center",
         "width": "100%"
        }
       },
       "children": [
        {
         "attributes": {
          "class": "pb-text",
          "style": {
           "position": "absolute",
           "width": "100%"
          }
         },
         "children": [
          "Simulation finished in 0:19:56."
         ],
         "tagName": "div"
        },
        {
         "attributes": {
          "class": "pb-fill",
          "style": {
           "animation": "none",
           "backgroundColor": "#bdd2e6",
           "backgroundImage": "none",
           "transition": "width 0.1s linear",
           "width": "100%"
          }
         },
         "children": [
          {
           "attributes": {
            "scoped": "scoped",
            "type": "text/css"
           },
           "children": [
            "\n                        @keyframes pb-fill-anim {\n                            0% { background-position: 0 0; }\n                            100% { background-position: 100px 0; }\n                        }}"
           ],
           "tagName": "style"
          },
          " "
         ],
         "tagName": "div"
        }
       ],
       "tagName": "div"
      },
      "text/html": [
       "<script>\n",
       "              (function () {\n",
       "                  var root = document.getElementById('7d136caa-49fb-437b-b2af-0c9415a6fe19');\n",
       "                  var text = root.getElementsByClassName('pb-text')[0];\n",
       "                  var fill = root.getElementsByClassName('pb-fill')[0];\n",
       "\n",
       "                  text.innerHTML = 'Simulation finished in 0:19:56.';\n",
       "                  \n",
       "            if (100.0 > 0.) {\n",
       "                fill.style.transition = 'width 0.1s linear';\n",
       "            } else {\n",
       "                fill.style.transition = 'none';\n",
       "            }\n",
       "\n",
       "            fill.style.width = '100.0%';\n",
       "            fill.style.animation = 'none';\n",
       "            fill.style.backgroundImage = 'none'\n",
       "        \n",
       "                  \n",
       "                fill.style.animation = 'none';\n",
       "                fill.style.backgroundImage = 'none';\n",
       "            \n",
       "              })();\n",
       "        </script>"
      ]
     },
     "metadata": {},
     "output_type": "display_data"
    },
    {
     "data": {
      "image/png": "[encoded data removed]",
      "text/plain": [
       "<Figure size 432x360 with 2 Axes>"
      ]
     },
     "metadata": {
      "needs_background": "light"
     },
     "output_type": "display_data"
    },
    {
     "data": {
      "image/png": "[encoded data removed]",
      "text/plain": [
       "<Figure size 432x360 with 2 Axes>"
      ]
     },
     "metadata": {
      "needs_background": "light"
     },
     "output_type": "display_data"
    },
    {
     "data": {
      "image/png": "[encoded data removed]",
      "text/plain": [
       "<Figure size 432x360 with 2 Axes>"
      ]
     },
     "metadata": {
      "needs_background": "light"
     },
     "output_type": "display_data"
    },
    {
     "data": {
      "image/png": "[encoded data removed]",
      "text/plain": [
       "<Figure size 432x360 with 2 Axes>"
      ]
     },
     "metadata": {
      "needs_background": "light"
     },
     "output_type": "display_data"
    }
   ],
   "source": [
    "#Simulation time in seconds\n",
    "sim_time = 2000\n",
    "tau_rc = 0.2\n",
    "#Programming voltage\n",
    "vprog = 0 \n",
    "lr = 0.001\n",
    "winit = 0\n",
    "#Frequency list of post neuron\n",
    "for freq in [100]:\n",
    "    #List of leak time constant for post neuron\n",
    "    for tau_rc in [0.2,0.1,0.05,0.3]:\n",
    "        #experiment name for saving the plots\n",
    "        experiment_name = 'freq ' + str(freq)+ ' Hz & tau_rc_post  '+str(tau_rc*1000)+'ms'+str(winit)\n",
    "        \n",
    "        model = nengo.Network()\n",
    "        with model:\n",
    "\n",
    "            pre = nengo.Ensemble(n_neurons=1, dimensions=1, encoders=[[1]],gain=[2], bias=[0], neuron_type=MyLIF_in(tau_rc=tau_rc,min_voltage=-1, tau_ref=0.001))\n",
    "\n",
    "            post = nengo.Ensemble(n_neurons=1, dimensions=1,noise=process,encoders=[[1]], max_rates=[freq], intercepts=[0],\n",
    "                                  neuron_type=nengo.LIF(tau_rc=0.03, tau_ref=0.001))\n",
    "\n",
    "            stim_pre = nengo.Node(lambda t: 1)\n",
    "            stim_post = nengo.Node(lambda t: 1)\n",
    "\n",
    "            nengo.Connection(stim_pre, pre, synapse=None)\n",
    "            nengo.Connection(stim_post, post, synapse=0.005)\n",
    "    \n",
    "            w = nengo.Node(CustomRule_post_baseline(winit_min=0, winit_max=0,sample_distance=1,lr=lr,alpha=0), size_in=1, size_out=1 )\n",
    "            nengo.Connection(pre.neurons, w, synapse=None)\n",
    "            nengo.Connection(w, post.neurons, transform=[0],synapse=None) #Spikes not transmitted\n",
    "\n",
    "            p_stim_pre = nengo.Probe(stim_pre)\n",
    "            p_stim_post = nengo.Probe(stim_post)\n",
    "            p_pre = nengo.Probe(pre.neurons)\n",
    "            p_post = nengo.Probe(post.neurons)\n",
    "            p_pre_v = nengo.Probe(pre.neurons, 'voltage')\n",
    "\n",
    "            weights = w.output.history\n",
    "            dw = w.output.update_history\n",
    "        dt = 0.001\n",
    "        sim = nengo.Simulator(model,dt = dt)\n",
    "        w.output.set_signal_vmem(sim.signals[sim.model.sig[pre.neurons][\"voltage\"]])\n",
    "        w.output.set_signal_out(sim.signals[sim.model.sig[post.neurons][\"out\"]])\n",
    "\n",
    "        sim.run(sim_time)  \n",
    "        #Now we gather the data from simulation\n",
    "        pre_data = (sim.data[p_pre]*dt)[:,0]\n",
    "        post_data = (sim.data[p_post]*dt)[:,0]\n",
    "        pre_voltage_data = (sim.data[p_pre_v])[:,0]\n",
    "        t_data = sim.trange()\n",
    "        w_data = np.array(weights)[:,0,0]\n",
    "\n",
    "        dw_data = np.array(dw)[:,0,0]\n",
    "        \n",
    "        pre_spike_times = t_data[np.where(pre_data == 1)]\n",
    "        post_spike_times = t_data[np.where(post_data == 1)]\n",
    "\n",
    "        dw_at_post = dw_data[np.where(post_data == 1)]\n",
    "#         dw_at_post = np.clip(dw_at_post,-1,1)\n",
    "        w_at_post = w_data[np.where(post_data == 1)]\n",
    "        w_at_post = w_at_post - dw_at_post\n",
    "#         w_at_post = np.clip(w_at_post,0,1.2)\n",
    "\n",
    "        vmem_at_post = pre_voltage_data[np.where(post_data == 1)]\n",
    "\n",
    "        tau_pre_nearest = np.ones((len(post_spike_times)))\n",
    "        for i in range(len(post_spike_times)):\n",
    "            tau_post = post_spike_times[i]\n",
    "            neurest_index = (np.abs(pre_spike_times-tau_post)).argmin()\n",
    "            tau_pre = pre_spike_times[neurest_index]\n",
    "            tau_pre_nearest[i]=tau_pre\n",
    "        dtau = post_spike_times - tau_pre_nearest\n",
    "\n",
    "        #Plot the data\n",
    "        fig_dir = os.getcwd()\n",
    "#         fig = plt.figure(figsize=(14,4))\n",
    "\n",
    "#         ax1 = fig.add_subplot(1,3,1)\n",
    "#         plt.scatter(dtau[np.nonzero(dw_at_post)]*1000, dw_at_post[np.nonzero(dw_at_post)],c=w_at_post[np.nonzero(dw_at_post)],s=500/sim_time)\n",
    "#         cbar = plt.colorbar()\n",
    "#         cbar.set_label('W')\n",
    "#         ax1.set_xlabel('tau post-tau pre (ms)')\n",
    "#         ax1.set_ylabel('dW')\n",
    "        \n",
    "#         ax2 = fig.add_subplot(1,3,2)\n",
    "#         ax2.scatter(vmem_at_post[np.nonzero(dw_at_post)], dw_at_post[np.nonzero(dw_at_post)],c=w_at_post[np.nonzero(dw_at_post)], s=500/sim_time)\n",
    "#         cbar = plt.colorbar()\n",
    "#         cbar.set_label('W')\n",
    "#         ax2.set_xlabel('Vmem(V)')\n",
    "#         ax2.set_ylabel('dW')\n",
    "        \n",
    "#         ax3 = fig.add_subplot(1,3,3)\n",
    "#         ax3.scatter(vmem_at_post[np.nonzero(dw_at_post)], dtau[np.nonzero(dw_at_post)]*1000, s=500/sim_time)\n",
    "#         ax3.set_xlabel('Vmem(V)')\n",
    "#         ax3.set_ylabel('tau post-tau pre (ms)')\n",
    "        \n",
    "#         fig.tight_layout()\n",
    "#         fig.savefig(fig_dir+ '/vdsp_curve '+experiment_name + '.jpeg',bbox_inches='tight',dpi=500)\n",
    "#         plt.close()\n",
    "\n",
    "    #Now we gather the data from simulation\n",
    "        pre_data = (sim.data[p_pre]*dt)[:,0]\n",
    "        post_data = (sim.data[p_post]*dt)[:,0]\n",
    "        pre_voltage_data = (sim.data[p_pre_v])[:,0]\n",
    "        t_data = sim.trange()\n",
    "        w_data = np.array(weights)[:,0,0]\n",
    "\n",
    "        dw_data = np.array(dw)[:,0,0]\n",
    "\n",
    "        pre_spike_times = t_data[np.where(pre_data == 1)]\n",
    "        post_spike_times = t_data[np.where(post_data == 1)]\n",
    "\n",
    "        dw_at_post = dw_data[np.where(post_data == 1)]\n",
    "\n",
    "        w_at_post = w_data[np.where(post_data == 1)]\n",
    "        w_at_post = w_at_post - dw_at_post\n",
    "\n",
    "\n",
    "        vmem_at_post = pre_voltage_data[np.where(post_data == 1)]\n",
    "\n",
    "        tau_pre_nearest = np.ones((len(post_spike_times)))\n",
    "        for i in range(len(post_spike_times)):\n",
    "            tau_post = post_spike_times[i]\n",
    "            neurest_index = (np.abs(pre_spike_times-tau_post)).argmin()\n",
    "            tau_pre = pre_spike_times[neurest_index]\n",
    "            tau_pre_nearest[i]=tau_pre\n",
    "        dtau = post_spike_times - tau_pre_nearest\n",
    "\n",
    "        #Get ISI for pre-neuron\n",
    "        isi = pre_spike_times[2]-pre_spike_times[1]\n",
    "\n",
    "\n",
    "        for i in range(len(dw_at_post)):\n",
    "            if (dtau[i]>0) and (dw_at_post[i]<0) :\n",
    "                dtau[i] -= isi \n",
    "\n",
    "\n",
    "        #Plot the data\n",
    "        fig_dir = os.getcwd()\n",
    "        import matplotlib as mpl\n",
    "        mpl.rcParams.update({'font.size': 12})\n",
    "\n",
    "        fig = plt.figure(figsize=(6,5))\n",
    "\n",
    "        ax1 = fig.add_subplot()\n",
    "        plt.scatter(dtau[np.nonzero(dw_at_post)]*1000, dw_at_post[np.nonzero(dw_at_post)],c=w_at_post[np.nonzero(dw_at_post)],s=500/sim_time)\n",
    "        cbar = plt.colorbar()\n",
    "        cbar.set_label('W')\n",
    "        ax1.set_xlabel('$ t_{post}-t_{pre}~(ms) $')\n",
    "        ax1.set_ylabel('$d$W')\n",
    "        fig.tight_layout()\n",
    "        fig.savefig(fig_dir+ '/vdsp_curve '+experiment_name + '.png',bbox_inches='tight',dpi=800)"
   ]
  },
  {
   "cell_type": "code",
   "execution_count": null,
   "metadata": {},
   "outputs": [],
   "source": [
    "#Simulation time in seconds\n",
    "sim_time = 2000\n",
    "tau_rc = 0.2\n",
    "#Programming voltage\n",
    "vprog = 0 \n",
    "lr = 0.001\n",
    "winit = 0\n",
    "#Frequency list of post neuron\n",
    "for freq in [100]:\n",
    "    #List of leak time constant for post neuron\n",
    "    for tau_rc in [0.2,0.1,0.05,0.3]:\n",
    "        #experiment name for saving the plots\n",
    "        experiment_name = 'freq ' + str(freq)+ ' Hz & tau_rc_post  '+str(tau_rc*1000)+'ms'+str(winit)\n",
    "        \n",
    "        model = nengo.Network()\n",
    "        with model:\n",
    "\n",
    "            pre = nengo.Ensemble(n_neurons=1, dimensions=1, encoders=[[1]],gain=[2], bias=[0], neuron_type=MyLIF_in(tau_rc=tau_rc,min_voltage=-1, tau_ref=0.001))\n",
    "\n",
    "            post = nengo.Ensemble(n_neurons=1, dimensions=1,noise=process,encoders=[[1]], max_rates=[freq], intercepts=[0],\n",
    "                                  neuron_type=nengo.LIF(tau_rc=0.03, tau_ref=0.001))\n",
    "\n",
    "            stim_pre = nengo.Node(lambda t: 1)\n",
    "            stim_post = nengo.Node(lambda t: 1)\n",
    "\n",
    "            nengo.Connection(stim_pre, pre, synapse=None)\n",
    "            nengo.Connection(stim_post, post, synapse=0.005)\n",
    "    \n",
    "            w = nengo.Node(CustomRule_post_baseline(winit_min=0, winit_max=0,sample_distance=1,lr=lr,alpha=0), size_in=1, size_out=1 )\n",
    "            nengo.Connection(pre.neurons, w, synapse=None)\n",
    "            nengo.Connection(w, post.neurons, transform=[0],synapse=None) #Spikes not transmitted\n",
    "\n",
    "            p_stim_pre = nengo.Probe(stim_pre)\n",
    "            p_stim_post = nengo.Probe(stim_post)\n",
    "            p_pre = nengo.Probe(pre.neurons)\n",
    "            p_post = nengo.Probe(post.neurons)\n",
    "            p_pre_v = nengo.Probe(pre.neurons, 'voltage')\n",
    "\n",
    "            weights = w.output.history\n",
    "            dw = w.output.update_history\n",
    "        dt = 0.001\n",
    "        sim = nengo.Simulator(model,dt = dt)\n",
    "        w.output.set_signal_vmem(sim.signals[sim.model.sig[pre.neurons][\"voltage\"]])\n",
    "        w.output.set_signal_out(sim.signals[sim.model.sig[post.neurons][\"out\"]])\n",
    "\n",
    "        sim.run(sim_time)  \n",
    "        #Now we gather the data from simulation\n",
    "        pre_data = (sim.data[p_pre]*dt)[:,0]\n",
    "        post_data = (sim.data[p_post]*dt)[:,0]\n",
    "        pre_voltage_data = (sim.data[p_pre_v])[:,0]\n",
    "        t_data = sim.trange()\n",
    "        w_data = np.array(weights)[:,0,0]\n",
    "\n",
    "        dw_data = np.array(dw)[:,0,0]\n",
    "        \n",
    "        pre_spike_times = t_data[np.where(pre_data == 1)]\n",
    "        post_spike_times = t_data[np.where(post_data == 1)]\n",
    "\n",
    "        dw_at_post = dw_data[np.where(post_data == 1)]\n",
    "#         dw_at_post = np.clip(dw_at_post,-1,1)\n",
    "        w_at_post = w_data[np.where(post_data == 1)]\n",
    "        w_at_post = w_at_post - dw_at_post\n",
    "#         w_at_post = np.clip(w_at_post,0,1.2)\n",
    "\n",
    "        vmem_at_post = pre_voltage_data[np.where(post_data == 1)]\n",
    "\n",
    "        tau_pre_nearest = np.ones((len(post_spike_times)))\n",
    "        for i in range(len(post_spike_times)):\n",
    "            tau_post = post_spike_times[i]\n",
    "            neurest_index = (np.abs(pre_spike_times-tau_post)).argmin()\n",
    "            tau_pre = pre_spike_times[neurest_index]\n",
    "            tau_pre_nearest[i]=tau_pre\n",
    "        dtau = post_spike_times - tau_pre_nearest\n",
    "\n",
    "        #Plot the data\n",
    "        fig_dir = os.getcwd()\n",
    "#         fig = plt.figure(figsize=(14,4))\n",
    "\n",
    "#         ax1 = fig.add_subplot(1,3,1)\n",
    "#         plt.scatter(dtau[np.nonzero(dw_at_post)]*1000, dw_at_post[np.nonzero(dw_at_post)],c=w_at_post[np.nonzero(dw_at_post)],s=500/sim_time)\n",
    "#         cbar = plt.colorbar()\n",
    "#         cbar.set_label('W')\n",
    "#         ax1.set_xlabel('tau post-tau pre (ms)')\n",
    "#         ax1.set_ylabel('dW')\n",
    "        \n",
    "#         ax2 = fig.add_subplot(1,3,2)\n",
    "#         ax2.scatter(vmem_at_post[np.nonzero(dw_at_post)], dw_at_post[np.nonzero(dw_at_post)],c=w_at_post[np.nonzero(dw_at_post)], s=500/sim_time)\n",
    "#         cbar = plt.colorbar()\n",
    "#         cbar.set_label('W')\n",
    "#         ax2.set_xlabel('Vmem(V)')\n",
    "#         ax2.set_ylabel('dW')\n",
    "        \n",
    "#         ax3 = fig.add_subplot(1,3,3)\n",
    "#         ax3.scatter(vmem_at_post[np.nonzero(dw_at_post)], dtau[np.nonzero(dw_at_post)]*1000, s=500/sim_time)\n",
    "#         ax3.set_xlabel('Vmem(V)')\n",
    "#         ax3.set_ylabel('tau post-tau pre (ms)')\n",
    "        \n",
    "#         fig.tight_layout()\n",
    "#         fig.savefig(fig_dir+ '/vdsp_curve '+experiment_name + '.jpeg',bbox_inches='tight',dpi=500)\n",
    "#         plt.close()\n",
    "\n",
    "    #Now we gather the data from simulation\n",
    "        pre_data = (sim.data[p_pre]*dt)[:,0]\n",
    "        post_data = (sim.data[p_post]*dt)[:,0]\n",
    "        pre_voltage_data = (sim.data[p_pre_v])[:,0]\n",
    "        t_data = sim.trange()\n",
    "        w_data = np.array(weights)[:,0,0]\n",
    "\n",
    "        dw_data = np.array(dw)[:,0,0]\n",
    "\n",
    "        pre_spike_times = t_data[np.where(pre_data == 1)]\n",
    "        post_spike_times = t_data[np.where(post_data == 1)]\n",
    "\n",
    "        dw_at_post = dw_data[np.where(post_data == 1)]\n",
    "\n",
    "        w_at_post = w_data[np.where(post_data == 1)]\n",
    "        w_at_post = w_at_post - dw_at_post\n",
    "\n",
    "\n",
    "        vmem_at_post = pre_voltage_data[np.where(post_data == 1)]\n",
    "\n",
    "        tau_pre_nearest = np.ones((len(post_spike_times)))\n",
    "        for i in range(len(post_spike_times)):\n",
    "            tau_post = post_spike_times[i]\n",
    "            neurest_index = (np.abs(pre_spike_times-tau_post)).argmin()\n",
    "            tau_pre = pre_spike_times[neurest_index]\n",
    "            tau_pre_nearest[i]=tau_pre\n",
    "        dtau = post_spike_times - tau_pre_nearest\n",
    "\n",
    "        #Get ISI for pre-neuron\n",
    "        isi = pre_spike_times[2]-pre_spike_times[1]\n",
    "\n",
    "\n",
    "        for i in range(len(dw_at_post)):\n",
    "            if (dtau[i]>0) and (dw_at_post[i]<0) :\n",
    "                dtau[i] -= isi \n",
    "\n",
    "\n",
    "        #Plot the data\n",
    "        fig_dir = os.getcwd()\n",
    "        import matplotlib as mpl\n",
    "        mpl.rcParams.update({'font.size': 12})\n",
    "\n",
    "        fig = plt.figure(figsize=(6,5))\n",
    "\n",
    "        ax1 = fig.add_subplot()\n",
    "        plt.scatter(dtau[np.nonzero(dw_at_post)]*1000, dw_at_post[np.nonzero(dw_at_post)],c=w_at_post[np.nonzero(dw_at_post)],s=500/sim_time)\n",
    "        cbar = plt.colorbar()\n",
    "        cbar.set_label('W')\n",
    "        ax1.set_xlabel('$ t_{post}-t_{pre}~(ms) $')\n",
    "        ax1.set_ylabel('$d$W')\n",
    "        fig.tight_layout()\n",
    "        fig.savefig(fig_dir+ '/vdsp_curve '+experiment_name + '.png',bbox_inches='tight',dpi=800)"
   ]
  },
  {
   "cell_type": "code",
   "execution_count": 24,
   "metadata": {},
   "outputs": [],
   "source": [
    "# #Now we gather the data from simulation\n",
    "# pre_data = (sim.data[p_pre]*dt)[:,0]\n",
    "# post_data = (sim.data[p_post]*dt)[:,0]\n",
    "# pre_voltage_data = (sim.data[p_pre_v])[:,0]\n",
    "# t_data = sim.trange()\n",
    "# w_data = np.array(weights)[:,0,0]\n",
    "\n",
    "# dw_data = np.array(dw)[:,0,0]\n",
    "\n",
    "# pre_spike_times = t_data[np.where(pre_data == 1)]\n",
    "# post_spike_times = t_data[np.where(post_data == 1)]\n",
    "\n",
    "# dw_at_post = dw_data[np.where(post_data == 1)]\n",
    "\n",
    "# w_at_post = w_data[np.where(post_data == 1)]\n",
    "# w_at_post = w_at_post - dw_at_post\n",
    "\n",
    "\n",
    "# vmem_at_post = pre_voltage_data[np.where(post_data == 1)]\n",
    "\n",
    "# tau_pre_nearest = np.ones((len(post_spike_times)))\n",
    "# for i in range(len(post_spike_times)):\n",
    "#     tau_post = post_spike_times[i]\n",
    "#     neurest_index = (np.abs(pre_spike_times-tau_post)).argmin()\n",
    "#     tau_pre = pre_spike_times[neurest_index]\n",
    "#     tau_pre_nearest[i]=tau_pre\n",
    "# dtau = post_spike_times - tau_pre_nearest\n",
    "\n",
    "# #Get ISI for pre-neuron\n",
    "# isi = pre_spike_times[2]-pre_spike_times[1]\n",
    "\n",
    "\n",
    "# for i in range(len(dw_at_post)):\n",
    "#     if (dtau[i]>0) and (dw_at_post[i]<0) :\n",
    "#         dtau[i] -= isi \n",
    "    \n",
    "\n",
    "# #Plot the data\n",
    "# fig_dir = os.getcwd()\n",
    "# fig = plt.figure(figsize=(14,4))\n",
    "\n",
    "# ax1 = fig.add_subplot(1,3,1)\n",
    "# plt.scatter(dtau[np.nonzero(dw_at_post)]*1000, dw_at_post[np.nonzero(dw_at_post)],c=w_at_post[np.nonzero(dw_at_post)],s=500/sim_time)\n",
    "# cbar = plt.colorbar()\n",
    "# cbar.set_label('W')\n",
    "# ax1.set_xlabel('tau post-tau pre (ms)')\n",
    "# ax1.set_ylabel('dW')\n",
    "\n",
    "# ax2 = fig.add_subplot(1,3,2)\n",
    "# ax2.scatter(vmem_at_post[np.nonzero(dw_at_post)], dw_at_post[np.nonzero(dw_at_post)],c=w_at_post[np.nonzero(dw_at_post)], s=500/sim_time)\n",
    "# cbar = plt.colorbar()\n",
    "# cbar.set_label('W')\n",
    "# ax2.set_xlabel('Vmem(V)')\n",
    "# ax2.set_ylabel('dW')\n",
    "\n",
    "# ax3 = fig.add_subplot(1,3,3)\n",
    "# ax3.scatter(vmem_at_post[np.nonzero(dw_at_post)], dtau[np.nonzero(dw_at_post)]*1000, s=500/sim_time)\n",
    "# ax3.set_xlabel('Vmem(V)')\n",
    "# ax3.set_ylabel('tau post-tau pre (ms)')\n",
    "\n",
    "# fig.tight_layout()\n",
    "# fig.savefig(fig_dir+ '/vdsp_curve '+experiment_name + '.jpeg',bbox_inches='tight',dpi=500)"
   ]
  },
  {
   "cell_type": "code",
   "execution_count": 25,
   "metadata": {},
   "outputs": [],
   "source": [
    "# import matplotlib as mpl\n",
    "# mpl.rcParams.update({'font.size': 12})\n",
    "\n",
    "# fig = plt.figure(figsize=(6,5))\n",
    "\n",
    "# ax1 = fig.add_subplot()\n",
    "# plt.scatter(dtau[np.nonzero(dw_at_post)]*1000, dw_at_post[np.nonzero(dw_at_post)],c=w_at_post[np.nonzero(dw_at_post)],s=500/sim_time)\n",
    "# cbar = plt.colorbar()\n",
    "# cbar.set_label('W')\n",
    "# ax1.set_xlabel('$ t_{post}-t_{pre}~(ms) $')\n",
    "# ax1.set_ylabel('$d$W')\n",
    "# fig.tight_layout()\n",
    "# fig.savefig('vdsp_curve_nengo.png',bbox_inches='tight',dpi=500)\n",
    "# fig.savefig('vdsp_curve_nengo.svg',bbox_inches='tight',dpi=500)\n",
    "# fig.savefig('vdsp_curve_nengo.pdf',bbox_inches='tight',dpi=500)"
   ]
  },
  {
   "cell_type": "markdown",
   "metadata": {},
   "source": [
    "# Triplet of spikes"
   ]
  },
  {
   "cell_type": "code",
   "execution_count": 114,
   "metadata": {},
   "outputs": [
    {
     "data": {
      "application/vdom.v1+json": {
       "attributes": {},
       "tagName": "div"
      },
      "text/html": [
       "\n",
       "                <script>\n",
       "                    if (Jupyter.version.split(\".\")[0] < 5) {\n",
       "                        var pb = document.getElementById(\"6c0b8677-4552-480f-9593-a29061274fe6\");\n",
       "                        var text = document.createTextNode(\n",
       "                            \"HMTL progress bar requires Jupyter Notebook >= \" +\n",
       "                            \"5.0 or Jupyter Lab. Alternatively, you can use \" +\n",
       "                            \"TerminalProgressBar().\");\n",
       "                        pb.parentNode.insertBefore(text, pb);\n",
       "                    }\n",
       "                </script>\n",
       "                <div id=\"6c0b8677-4552-480f-9593-a29061274fe6\" style=\"\n",
       "                    width: 100%;\n",
       "                    border: 1px solid #cfcfcf;\n",
       "                    border-radius: 4px;\n",
       "                    text-align: center;\n",
       "                    position: relative;\">\n",
       "                  <div class=\"pb-text\" style=\"\n",
       "                      position: absolute;\n",
       "                      width: 100%;\">\n",
       "                    0%\n",
       "                  </div>\n",
       "                  <div class=\"pb-fill\" style=\"\n",
       "                      background-color: #bdd2e6;\n",
       "                      width: 0%;\">\n",
       "                    <style type=\"text/css\" scoped=\"scoped\">\n",
       "                        @keyframes pb-fill-anim {\n",
       "                            0% { background-position: 0 0; }\n",
       "                            100% { background-position: 100px 0; }\n",
       "                        }\n",
       "                    </style>\n",
       "                    &nbsp;\n",
       "                  </div>\n",
       "                </div>"
      ],
      "text/plain": [
       "HtmlProgressBar cannot be displayed. Please use the TerminalProgressBar. It can be enabled with `nengo.rc['progress']['progress_bar'] = 'nengo.utils.progress.TerminalProgressBar'`."
      ]
     },
     "metadata": {},
     "output_type": "display_data"
    },
    {
     "data": {
      "application/vdom.v1+json": {
       "attributes": {
        "id": "4f1cace3-983e-4f85-b8c6-d71cd82eb2ae",
        "style": {
         "border": "1px solid #cfcfcf",
         "borderRadius": "4px",
         "boxSizing": "border-box",
         "position": "relative",
         "textAlign": "center",
         "width": "100%"
        }
       },
       "children": [
        {
         "attributes": {
          "class": "pb-text",
          "style": {
           "position": "absolute",
           "width": "100%"
          }
         },
         "children": [
          "Build finished in 0:00:01."
         ],
         "tagName": "div"
        },
        {
         "attributes": {
          "class": "pb-fill",
          "style": {
           "animation": "none",
           "backgroundColor": "#bdd2e6",
           "backgroundImage": "none",
           "backgroundSize": "100px 100%",
           "width": "100%"
          }
         },
         "children": [
          {
           "attributes": {
            "scoped": "scoped",
            "type": "text/css"
           },
           "children": [
            "\n                        @keyframes pb-fill-anim {\n                            0% { background-position: 0 0; }\n                            100% { background-position: 100px 0; }\n                        }}"
           ],
           "tagName": "style"
          },
          " "
         ],
         "tagName": "div"
        }
       ],
       "tagName": "div"
      },
      "text/html": [
       "<script>\n",
       "              (function () {\n",
       "                  var root = document.getElementById('6c0b8677-4552-480f-9593-a29061274fe6');\n",
       "                  var text = root.getElementsByClassName('pb-text')[0];\n",
       "                  var fill = root.getElementsByClassName('pb-fill')[0];\n",
       "\n",
       "                  text.innerHTML = 'Build finished in 0:00:01.';\n",
       "                  \n",
       "            fill.style.width = '100%';\n",
       "            fill.style.animation = 'pb-fill-anim 2s linear infinite';\n",
       "            fill.style.backgroundSize = '100px 100%';\n",
       "            fill.style.backgroundImage = 'repeating-linear-gradient(' +\n",
       "                '90deg, #bdd2e6, #edf2f8 40%, #bdd2e6 80%, #bdd2e6)';\n",
       "        \n",
       "                  \n",
       "                fill.style.animation = 'none';\n",
       "                fill.style.backgroundImage = 'none';\n",
       "            \n",
       "              })();\n",
       "        </script>"
      ]
     },
     "metadata": {},
     "output_type": "display_data"
    },
    {
     "data": {
      "application/vdom.v1+json": {
       "attributes": {},
       "tagName": "div"
      },
      "text/html": [
       "\n",
       "                <script>\n",
       "                    if (Jupyter.version.split(\".\")[0] < 5) {\n",
       "                        var pb = document.getElementById(\"74a5c342-bb91-4456-bc13-ea7c176a7169\");\n",
       "                        var text = document.createTextNode(\n",
       "                            \"HMTL progress bar requires Jupyter Notebook >= \" +\n",
       "                            \"5.0 or Jupyter Lab. Alternatively, you can use \" +\n",
       "                            \"TerminalProgressBar().\");\n",
       "                        pb.parentNode.insertBefore(text, pb);\n",
       "                    }\n",
       "                </script>\n",
       "                <div id=\"74a5c342-bb91-4456-bc13-ea7c176a7169\" style=\"\n",
       "                    width: 100%;\n",
       "                    border: 1px solid #cfcfcf;\n",
       "                    border-radius: 4px;\n",
       "                    text-align: center;\n",
       "                    position: relative;\">\n",
       "                  <div class=\"pb-text\" style=\"\n",
       "                      position: absolute;\n",
       "                      width: 100%;\">\n",
       "                    0%\n",
       "                  </div>\n",
       "                  <div class=\"pb-fill\" style=\"\n",
       "                      background-color: #bdd2e6;\n",
       "                      width: 0%;\">\n",
       "                    <style type=\"text/css\" scoped=\"scoped\">\n",
       "                        @keyframes pb-fill-anim {\n",
       "                            0% { background-position: 0 0; }\n",
       "                            100% { background-position: 100px 0; }\n",
       "                        }\n",
       "                    </style>\n",
       "                    &nbsp;\n",
       "                  </div>\n",
       "                </div>"
      ],
      "text/plain": [
       "HtmlProgressBar cannot be displayed. Please use the TerminalProgressBar. It can be enabled with `nengo.rc['progress']['progress_bar'] = 'nengo.utils.progress.TerminalProgressBar'`."
      ]
     },
     "metadata": {},
     "output_type": "display_data"
    },
    {
     "data": {
      "application/vdom.v1+json": {
       "attributes": {
        "id": "03d91e48-d360-4f3f-a8f8-4881b78520ff",
        "style": {
         "border": "1px solid #cfcfcf",
         "borderRadius": "4px",
         "boxSizing": "border-box",
         "position": "relative",
         "textAlign": "center",
         "width": "100%"
        }
       },
       "children": [
        {
         "attributes": {
          "class": "pb-text",
          "style": {
           "position": "absolute",
           "width": "100%"
          }
         },
         "children": [
          "Simulation finished in 0:00:01."
         ],
         "tagName": "div"
        },
        {
         "attributes": {
          "class": "pb-fill",
          "style": {
           "animation": "none",
           "backgroundColor": "#bdd2e6",
           "backgroundImage": "none",
           "transition": "width 0.1s linear",
           "width": "100%"
          }
         },
         "children": [
          {
           "attributes": {
            "scoped": "scoped",
            "type": "text/css"
           },
           "children": [
            "\n                        @keyframes pb-fill-anim {\n                            0% { background-position: 0 0; }\n                            100% { background-position: 100px 0; }\n                        }}"
           ],
           "tagName": "style"
          },
          " "
         ],
         "tagName": "div"
        }
       ],
       "tagName": "div"
      },
      "text/html": [
       "<script>\n",
       "              (function () {\n",
       "                  var root = document.getElementById('74a5c342-bb91-4456-bc13-ea7c176a7169');\n",
       "                  var text = root.getElementsByClassName('pb-text')[0];\n",
       "                  var fill = root.getElementsByClassName('pb-fill')[0];\n",
       "\n",
       "                  text.innerHTML = 'Simulation finished in 0:00:01.';\n",
       "                  \n",
       "            if (100.0 > 0.) {\n",
       "                fill.style.transition = 'width 0.1s linear';\n",
       "            } else {\n",
       "                fill.style.transition = 'none';\n",
       "            }\n",
       "\n",
       "            fill.style.width = '100.0%';\n",
       "            fill.style.animation = 'none';\n",
       "            fill.style.backgroundImage = 'none'\n",
       "        \n",
       "                  \n",
       "                fill.style.animation = 'none';\n",
       "                fill.style.backgroundImage = 'none';\n",
       "            \n",
       "              })();\n",
       "        </script>"
      ]
     },
     "metadata": {},
     "output_type": "display_data"
    },
    {
     "data": {
      "image/png": "[encoded data removed]",
      "text/plain": [
       "<Figure size 509.76x360 with 3 Axes>"
      ]
     },
     "metadata": {
      "needs_background": "light"
     },
     "output_type": "display_data"
    }
   ],
   "source": [
    "process = nengo.processes.WhiteNoise(dist=nengo.dists.Gaussian(0, 0.01), seed=1)\n",
    "model = nengo.Network()\n",
    "with model:\n",
    "    \n",
    "    pre = nengo.Ensemble(n_neurons=1, dimensions=1,gain=[3.5],bias=[0],encoders=[[1]],neuron_type=MyLIF_in(tau_rc=0.03, min_voltage=-1))\n",
    "    post = nengo.Ensemble(n_neurons=1, noise=process,dimensions=1,intercepts=[0],max_rates=[50],encoders=[[1]],\n",
    "                          neuron_type=MyLIF_in(tau_rc=0.1, min_voltage=-1))\n",
    "    \n",
    "    stim_pre = nengo.Node(lambda t: 1)\n",
    "#     stim_post = nengo.Node(lambda t: 1 if ((0.06<t%0.4<0.16) and (t<0.75)) or ((0.14<t%0.4<0.24) and (t>1.25))or((0.14<t%0.4<0.24) and (0.75<t<1.25)) else 0)\n",
    "    stim_post = nengo.Node(lambda t: 1)\n",
    "    \n",
    "    nengo.Connection(stim_pre, pre, synapse=None)\n",
    "    nengo.Connection(stim_post, post, synapse=None)\n",
    "    \n",
    "    #Weight node implementing the VDSP rule\n",
    "    w = nengo.Node(CustomRule_post_baseline(winit_min=0.5, winit_max=0.5, lr=0.001), size_in=1, size_out=1)\n",
    "    nengo.Connection(pre.neurons, w, synapse=None)\n",
    "    nengo.Connection(w, post.neurons, transform=[0],synapse=None) #The synapse does not contribute to the post neuron membrane voltage\n",
    "    \n",
    "    p_stim_pre = nengo.Probe(stim_pre)\n",
    "    p_stim_post = nengo.Probe(stim_post)\n",
    "    \n",
    "    p_pre = nengo.Probe(pre.neurons)\n",
    "    p_post = nengo.Probe(post.neurons)\n",
    "    p_pre_v = nengo.Probe(pre.neurons, 'voltage')\n",
    "    p_post_v = nengo.Probe(post.neurons, 'voltage')\n",
    "    weights = w.output.history\n",
    "#     weights = w.output.history\n",
    "    dw = w.output.update_history\n",
    "    \n",
    "with nengo.Simulator(model, optimize=True) as sim:\n",
    "        \n",
    "    w.output.set_signal_vmem(sim.signals[sim.model.sig[pre.neurons][\"voltage\"]])\n",
    "    w.output.set_signal_out(sim.signals[sim.model.sig[post.neurons][\"out\"]])    \n",
    "    \n",
    "    sim.run(0.12)\n",
    "    \n",
    "    \n",
    "import matplotlib as mpl\n",
    "mpl.rcParams.update({'font.size': 12})\n",
    "\n",
    "plt.figure(figsize=(7.08,5))\n",
    "\n",
    "p1 = plt.subplot(3, 1, 1)\n",
    "plt.plot(sim.trange(), sim.data[p_stim_pre], label='stim')\n",
    "plt.plot(sim.trange(), sim.data[p_pre_v], label='voltage')\n",
    "plt.plot(sim.trange(), sim.data[p_pre]/1000, c='k', label='spikes')\n",
    "plt.ylabel('pre')\n",
    "# plt.legend()\n",
    "# plt.legend(loc='upper right')\n",
    "# , bbox_to_anchor=(1.8, 1)\n",
    "p2 = plt.subplot(3, 1, 2)\n",
    "# plt.plot(sim.trange(), sim.data[p_stim_post], label='stim')\n",
    "# plt.plot(sim.trange(), sim.data[p_post_v], label='voltage')\n",
    "plt.plot(sim.trange(), sim.data[p_post]/1000, c='k', label='spikes')\n",
    "plt.ylabel('post')\n",
    "# plt.legend()\n",
    "\n",
    "plt.subplot(3, 1, 3)\n",
    "plt.plot(sim.trange(), np.array(weights)[:,0,0], label='weight', c = 'red')\n",
    "plt.ylabel('weight')\n",
    "# plt.legend()\n",
    "plt.tight_layout()"
   ]
  },
  {
   "cell_type": "code",
   "execution_count": null,
   "metadata": {},
   "outputs": [],
   "source": []
  },
  {
   "cell_type": "code",
   "execution_count": 117,
   "metadata": {},
   "outputs": [
    {
     "data": {
      "application/vdom.v1+json": {
       "attributes": {},
       "tagName": "div"
      },
      "text/html": [
       "\n",
       "                <script>\n",
       "                    if (Jupyter.version.split(\".\")[0] < 5) {\n",
       "                        var pb = document.getElementById(\"43fad9d2-7031-41af-b14b-628a26400693\");\n",
       "                        var text = document.createTextNode(\n",
       "                            \"HMTL progress bar requires Jupyter Notebook >= \" +\n",
       "                            \"5.0 or Jupyter Lab. Alternatively, you can use \" +\n",
       "                            \"TerminalProgressBar().\");\n",
       "                        pb.parentNode.insertBefore(text, pb);\n",
       "                    }\n",
       "                </script>\n",
       "                <div id=\"43fad9d2-7031-41af-b14b-628a26400693\" style=\"\n",
       "                    width: 100%;\n",
       "                    border: 1px solid #cfcfcf;\n",
       "                    border-radius: 4px;\n",
       "                    text-align: center;\n",
       "                    position: relative;\">\n",
       "                  <div class=\"pb-text\" style=\"\n",
       "                      position: absolute;\n",
       "                      width: 100%;\">\n",
       "                    0%\n",
       "                  </div>\n",
       "                  <div class=\"pb-fill\" style=\"\n",
       "                      background-color: #bdd2e6;\n",
       "                      width: 0%;\">\n",
       "                    <style type=\"text/css\" scoped=\"scoped\">\n",
       "                        @keyframes pb-fill-anim {\n",
       "                            0% { background-position: 0 0; }\n",
       "                            100% { background-position: 100px 0; }\n",
       "                        }\n",
       "                    </style>\n",
       "                    &nbsp;\n",
       "                  </div>\n",
       "                </div>"
      ],
      "text/plain": [
       "HtmlProgressBar cannot be displayed. Please use the TerminalProgressBar. It can be enabled with `nengo.rc['progress']['progress_bar'] = 'nengo.utils.progress.TerminalProgressBar'`."
      ]
     },
     "metadata": {},
     "output_type": "display_data"
    },
    {
     "data": {
      "application/vdom.v1+json": {
       "attributes": {
        "id": "c0de2464-748f-458f-b864-4775cd9ceb6d",
        "style": {
         "border": "1px solid #cfcfcf",
         "borderRadius": "4px",
         "boxSizing": "border-box",
         "position": "relative",
         "textAlign": "center",
         "width": "100%"
        }
       },
       "children": [
        {
         "attributes": {
          "class": "pb-text",
          "style": {
           "position": "absolute",
           "width": "100%"
          }
         },
         "children": [
          "Build finished in 0:00:01."
         ],
         "tagName": "div"
        },
        {
         "attributes": {
          "class": "pb-fill",
          "style": {
           "animation": "none",
           "backgroundColor": "#bdd2e6",
           "backgroundImage": "none",
           "backgroundSize": "100px 100%",
           "width": "100%"
          }
         },
         "children": [
          {
           "attributes": {
            "scoped": "scoped",
            "type": "text/css"
           },
           "children": [
            "\n                        @keyframes pb-fill-anim {\n                            0% { background-position: 0 0; }\n                            100% { background-position: 100px 0; }\n                        }}"
           ],
           "tagName": "style"
          },
          " "
         ],
         "tagName": "div"
        }
       ],
       "tagName": "div"
      },
      "text/html": [
       "<script>\n",
       "              (function () {\n",
       "                  var root = document.getElementById('43fad9d2-7031-41af-b14b-628a26400693');\n",
       "                  var text = root.getElementsByClassName('pb-text')[0];\n",
       "                  var fill = root.getElementsByClassName('pb-fill')[0];\n",
       "\n",
       "                  text.innerHTML = 'Build finished in 0:00:01.';\n",
       "                  \n",
       "            fill.style.width = '100%';\n",
       "            fill.style.animation = 'pb-fill-anim 2s linear infinite';\n",
       "            fill.style.backgroundSize = '100px 100%';\n",
       "            fill.style.backgroundImage = 'repeating-linear-gradient(' +\n",
       "                '90deg, #bdd2e6, #edf2f8 40%, #bdd2e6 80%, #bdd2e6)';\n",
       "        \n",
       "                  \n",
       "                fill.style.animation = 'none';\n",
       "                fill.style.backgroundImage = 'none';\n",
       "            \n",
       "              })();\n",
       "        </script>"
      ]
     },
     "metadata": {},
     "output_type": "display_data"
    },
    {
     "data": {
      "application/vdom.v1+json": {
       "attributes": {},
       "tagName": "div"
      },
      "text/html": [
       "\n",
       "                <script>\n",
       "                    if (Jupyter.version.split(\".\")[0] < 5) {\n",
       "                        var pb = document.getElementById(\"23b161e9-cce0-4a70-8ec3-83443d8259dc\");\n",
       "                        var text = document.createTextNode(\n",
       "                            \"HMTL progress bar requires Jupyter Notebook >= \" +\n",
       "                            \"5.0 or Jupyter Lab. Alternatively, you can use \" +\n",
       "                            \"TerminalProgressBar().\");\n",
       "                        pb.parentNode.insertBefore(text, pb);\n",
       "                    }\n",
       "                </script>\n",
       "                <div id=\"23b161e9-cce0-4a70-8ec3-83443d8259dc\" style=\"\n",
       "                    width: 100%;\n",
       "                    border: 1px solid #cfcfcf;\n",
       "                    border-radius: 4px;\n",
       "                    text-align: center;\n",
       "                    position: relative;\">\n",
       "                  <div class=\"pb-text\" style=\"\n",
       "                      position: absolute;\n",
       "                      width: 100%;\">\n",
       "                    0%\n",
       "                  </div>\n",
       "                  <div class=\"pb-fill\" style=\"\n",
       "                      background-color: #bdd2e6;\n",
       "                      width: 0%;\">\n",
       "                    <style type=\"text/css\" scoped=\"scoped\">\n",
       "                        @keyframes pb-fill-anim {\n",
       "                            0% { background-position: 0 0; }\n",
       "                            100% { background-position: 100px 0; }\n",
       "                        }\n",
       "                    </style>\n",
       "                    &nbsp;\n",
       "                  </div>\n",
       "                </div>"
      ],
      "text/plain": [
       "HtmlProgressBar cannot be displayed. Please use the TerminalProgressBar. It can be enabled with `nengo.rc['progress']['progress_bar'] = 'nengo.utils.progress.TerminalProgressBar'`."
      ]
     },
     "metadata": {},
     "output_type": "display_data"
    },
    {
     "data": {
      "application/vdom.v1+json": {
       "attributes": {
        "id": "096c106b-9034-4c19-9642-490a2dd83437",
        "style": {
         "border": "1px solid #cfcfcf",
         "borderRadius": "4px",
         "boxSizing": "border-box",
         "position": "relative",
         "textAlign": "center",
         "width": "100%"
        }
       },
       "children": [
        {
         "attributes": {
          "class": "pb-text",
          "style": {
           "position": "absolute",
           "width": "100%"
          }
         },
         "children": [
          "Simulation finished in 0:00:16."
         ],
         "tagName": "div"
        },
        {
         "attributes": {
          "class": "pb-fill",
          "style": {
           "animation": "none",
           "backgroundColor": "#bdd2e6",
           "backgroundImage": "none",
           "transition": "width 0.1s linear",
           "width": "100%"
          }
         },
         "children": [
          {
           "attributes": {
            "scoped": "scoped",
            "type": "text/css"
           },
           "children": [
            "\n                        @keyframes pb-fill-anim {\n                            0% { background-position: 0 0; }\n                            100% { background-position: 100px 0; }\n                        }}"
           ],
           "tagName": "style"
          },
          " "
         ],
         "tagName": "div"
        }
       ],
       "tagName": "div"
      },
      "text/html": [
       "<script>\n",
       "              (function () {\n",
       "                  var root = document.getElementById('23b161e9-cce0-4a70-8ec3-83443d8259dc');\n",
       "                  var text = root.getElementsByClassName('pb-text')[0];\n",
       "                  var fill = root.getElementsByClassName('pb-fill')[0];\n",
       "\n",
       "                  text.innerHTML = 'Simulation finished in 0:00:16.';\n",
       "                  \n",
       "            if (100.0 > 0.) {\n",
       "                fill.style.transition = 'width 0.1s linear';\n",
       "            } else {\n",
       "                fill.style.transition = 'none';\n",
       "            }\n",
       "\n",
       "            fill.style.width = '100.0%';\n",
       "            fill.style.animation = 'none';\n",
       "            fill.style.backgroundImage = 'none'\n",
       "        \n",
       "                  \n",
       "                fill.style.animation = 'none';\n",
       "                fill.style.backgroundImage = 'none';\n",
       "            \n",
       "              })();\n",
       "        </script>"
      ]
     },
     "metadata": {},
     "output_type": "display_data"
    },
    {
     "data": {
      "image/png": "[encoded data removed]",
      "text/plain": [
       "<Figure size 432x360 with 2 Axes>"
      ]
     },
     "metadata": {
      "needs_background": "light"
     },
     "output_type": "display_data"
    }
   ],
   "source": [
    "dt = 0.001\n",
    "sim_time = 20\n",
    "process = nengo.processes.WhiteNoise(dist=nengo.dists.Gaussian(0, 0.01), seed=1)\n",
    "model = nengo.Network()\n",
    "with model:\n",
    "    \n",
    "    pre = nengo.Ensemble(n_neurons=1, dimensions=1,gain=[3.5],bias=[0],encoders=[[1]],neuron_type=MyLIF_in(tau_rc=0.03, min_voltage=-1))\n",
    "    post = nengo.Ensemble(n_neurons=1, noise=process,dimensions=1,intercepts=[0],max_rates=[50],encoders=[[1]],\n",
    "                          neuron_type=MyLIF_in(tau_rc=0.1, min_voltage=-1))\n",
    "    \n",
    "    stim_pre = nengo.Node(lambda t: 1)\n",
    "#     stim_post = nengo.Node(lambda t: 1 if ((0.06<t%0.4<0.16) and (t<0.75)) or ((0.14<t%0.4<0.24) and (t>1.25))or((0.14<t%0.4<0.24) and (0.75<t<1.25)) else 0)\n",
    "    stim_post = nengo.Node(lambda t: 1)\n",
    "    \n",
    "    nengo.Connection(stim_pre, pre, synapse=None)\n",
    "    nengo.Connection(stim_post, post, synapse=None)\n",
    "    \n",
    "    #Weight node implementing the VDSP rule\n",
    "    w = nengo.Node(CustomRule_post_baseline(winit_min=0.5, winit_max=0.5, lr=1), size_in=1, size_out=1)\n",
    "    nengo.Connection(pre.neurons, w, synapse=None)\n",
    "    nengo.Connection(w, post.neurons, transform=[0],synapse=None) #The synapse does not contribute to the post neuron membrane voltage\n",
    "    \n",
    "    p_stim_pre = nengo.Probe(stim_pre)\n",
    "    p_stim_post = nengo.Probe(stim_post)\n",
    "    \n",
    "    p_pre = nengo.Probe(pre.neurons)\n",
    "    p_post = nengo.Probe(post.neurons)\n",
    "    p_pre_v = nengo.Probe(pre.neurons, 'voltage')\n",
    "    p_post_v = nengo.Probe(post.neurons, 'voltage')\n",
    "    weights = w.output.history\n",
    "#     weights = w.output.history\n",
    "    dw = w.output.update_history\n",
    "    \n",
    "with nengo.Simulator(model, optimize=True,dt=dt) as sim:\n",
    "        \n",
    "    w.output.set_signal_vmem(sim.signals[sim.model.sig[pre.neurons][\"voltage\"]])\n",
    "    w.output.set_signal_out(sim.signals[sim.model.sig[post.neurons][\"out\"]])    \n",
    "    \n",
    "    sim.run(sim_time)\n",
    "\n",
    "\n",
    "\n",
    "pre_data = (sim.data[p_pre]*dt)[:,0]\n",
    "post_data = (sim.data[p_post]*dt)[:,0]\n",
    "pre_voltage_data = (sim.data[p_pre_v])[:,0]\n",
    "t_data = sim.trange()\n",
    "w_data = np.array(weights)[:,0,0]\n",
    "\n",
    "dw_data = np.array(dw)[:,0,0]\n",
    "\n",
    "pre_spike_times = t_data[np.where(pre_data == 1)]\n",
    "post_spike_times = t_data[np.where(post_data == 1)]\n",
    "\n",
    "dw_at_post = dw_data[tuple(np.array(np.where(post_data == 1))+1)]\n",
    "#         dw_at_post = np.clip(dw_at_post,-1,1)\n",
    "w_at_post = w_data[tuple(np.array(np.where(post_data == 1))+1)]\n",
    "# w_at_post = w_at_post - dw_at_post\n",
    "#         w_at_post = np.clip(w_at_post,0,1.2)\n",
    "\n",
    "vmem_at_post = pre_voltage_data[np.where(post_data == 1)]\n",
    "\n",
    "tau_pre_nearest = np.ones((len(post_spike_times)))\n",
    "for i in range(len(post_spike_times)):\n",
    "    tau_post = post_spike_times[i]\n",
    "    neurest_index = (np.abs(pre_spike_times-tau_post)).argmin()\n",
    "    temp = pre_spike_times[neurest_index]\n",
    "    if (temp>tau_post):\n",
    "        tau_pre = pre_spike_times[neurest_index-1]\n",
    "    else:\n",
    "        tau_pre = pre_spike_times[neurest_index]\n",
    "    tau_pre_nearest[i]=tau_pre\n",
    "dtau = post_spike_times - tau_pre_nearest\n",
    "\n",
    "\n",
    "import matplotlib as mpl\n",
    "mpl.rcParams.update({'font.size': 12})\n",
    "\n",
    "fig = plt.figure(figsize=(6,5))\n",
    "\n",
    "ax1 = fig.add_subplot()\n",
    "plt.scatter(dtau[np.nonzero(dw_at_post)]*1000, dw_at_post[np.nonzero(dw_at_post)],c=w_at_post[np.nonzero(dw_at_post)],s=500/sim_time)\n",
    "cbar = plt.colorbar()\n",
    "cbar.set_label('W')\n",
    "ax1.set_xlabel('$ t_{post}-t_{pre}~(ms) $')\n",
    "ax1.set_ylabel('$d$W')\n",
    "fig.tight_layout()\n",
    "fig.savefig('vdsp_curve_pre_post_pre.png',bbox_inches='tight',dpi=500)\n",
    "fig.savefig('vdsp_curve_pre_post_pre.svg',bbox_inches='tight',dpi=500)\n",
    "fig.savefig('vdsp_curve_pre_post_pre.pdf',bbox_inches='tight',dpi=500)"
   ]
  },
  {
   "cell_type": "code",
   "execution_count": 118,
   "metadata": {},
   "outputs": [
    {
     "data": {
      "text/plain": [
       "array([0.5, 0.5, 0.5, 0.5, 0.5, 0.5, 0.5, 0.5, 0.5, 0.5, 0.5, 0.5, 0.5,\n",
       "       0.5, 0.5, 0.5, 0.5, 0.5, 0.5, 0.5, 0.5, 0.5, 0.5, 0.5, 0.5, 0.5,\n",
       "       0.5, 0.5, 0.5, 0.5, 0.5, 0.5, 0.5, 0.5, 0.5, 0.5, 0.5, 0.5, 0.5,\n",
       "       0.5, 0.5, 0.5, 0.5, 0.5, 0.5, 0.5, 0.5, 0.5, 0.5, 0.5, 0.5, 0.5,\n",
       "       0.5, 0.5, 0.5, 0.5, 0.5, 0.5, 0.5, 0.5, 0.5, 0.5, 0.5, 0.5, 0.5,\n",
       "       0.5, 0.5, 0.5, 0.5, 0.5, 0.5, 0.5, 0.5, 0.5, 0.5, 0.5, 0.5, 0.5,\n",
       "       0.5, 0.5, 0.5, 0.5, 0.5, 0.5, 0.5, 0.5, 0.5, 0.5, 0.5, 0.5, 0.5,\n",
       "       0.5, 0.5, 0.5, 0.5, 0.5, 0.5, 0.5, 0.5, 0.5, 0.5, 0.5, 0.5, 0.5,\n",
       "       0.5, 0.5, 0.5, 0.5, 0.5, 0.5, 0.5, 0.5, 0.5, 0.5, 0.5, 0.5, 0.5,\n",
       "       0.5, 0.5, 0.5, 0.5, 0.5, 0.5, 0.5, 0.5, 0.5, 0.5, 0.5, 0.5, 0.5,\n",
       "       0.5, 0.5, 0.5, 0.5, 0.5, 0.5, 0.5, 0.5, 0.5, 0.5, 0.5, 0.5, 0.5,\n",
       "       0.5, 0.5, 0.5, 0.5, 0.5, 0.5, 0.5, 0.5, 0.5, 0.5, 0.5, 0.5, 0.5,\n",
       "       0.5, 0.5, 0.5, 0.5, 0.5, 0.5, 0.5, 0.5, 0.5, 0.5, 0.5, 0.5, 0.5,\n",
       "       0.5, 0.5, 0.5, 0.5, 0.5, 0.5, 0.5, 0.5, 0.5, 0.5, 0.5, 0.5, 0.5,\n",
       "       0.5, 0.5, 0.5, 0.5, 0.5, 0.5, 0.5, 0.5, 0.5, 0.5, 0.5, 0.5, 0.5,\n",
       "       0.5, 0.5, 0.5, 0.5, 0.5, 0.5, 0.5, 0.5, 0.5, 0.5, 0.5, 0.5, 0.5,\n",
       "       0.5, 0.5, 0.5, 0.5, 0.5, 0.5, 0.5, 0.5, 0.5, 0.5, 0.5, 0.5, 0.5,\n",
       "       0.5, 0.5, 0.5, 0.5, 0.5, 0.5, 0.5, 0.5, 0.5, 0.5, 0.5, 0.5, 0.5,\n",
       "       0.5, 0.5, 0.5, 0.5, 0.5, 0.5, 0.5, 0.5, 0.5, 0.5, 0.5, 0.5, 0.5,\n",
       "       0.5, 0.5, 0.5, 0.5, 0.5, 0.5, 0.5, 0.5, 0.5, 0.5, 0.5, 0.5, 0.5,\n",
       "       0.5, 0.5, 0.5, 0.5, 0.5, 0.5, 0.5, 0.5, 0.5, 0.5, 0.5, 0.5, 0.5,\n",
       "       0.5, 0.5, 0.5, 0.5, 0.5, 0.5, 0.5, 0.5, 0.5, 0.5, 0.5, 0.5, 0.5,\n",
       "       0.5, 0.5, 0.5, 0.5, 0.5, 0.5, 0.5, 0.5, 0.5, 0.5, 0.5, 0.5, 0.5,\n",
       "       0.5, 0.5, 0.5, 0.5, 0.5, 0.5, 0.5, 0.5, 0.5, 0.5, 0.5, 0.5, 0.5,\n",
       "       0.5, 0.5, 0.5, 0.5, 0.5, 0.5, 0.5, 0.5, 0.5, 0.5, 0.5, 0.5, 0.5,\n",
       "       0.5, 0.5, 0.5, 0.5, 0.5, 0.5, 0.5, 0.5, 0.5, 0.5, 0.5, 0.5, 0.5,\n",
       "       0.5, 0.5, 0.5, 0.5, 0.5, 0.5, 0.5, 0.5, 0.5, 0.5, 0.5, 0.5, 0.5,\n",
       "       0.5, 0.5, 0.5, 0.5, 0.5, 0.5, 0.5, 0.5, 0.5, 0.5, 0.5, 0.5, 0.5,\n",
       "       0.5, 0.5, 0.5, 0.5, 0.5, 0.5, 0.5, 0.5, 0.5, 0.5, 0.5, 0.5, 0.5,\n",
       "       0.5, 0.5, 0.5, 0.5, 0.5, 0.5, 0.5, 0.5, 0.5, 0.5, 0.5, 0.5, 0.5,\n",
       "       0.5, 0.5, 0.5, 0.5, 0.5, 0.5, 0.5, 0.5, 0.5, 0.5, 0.5, 0.5, 0.5,\n",
       "       0.5, 0.5, 0.5, 0.5, 0.5, 0.5, 0.5, 0.5, 0.5, 0.5, 0.5, 0.5, 0.5,\n",
       "       0.5, 0.5, 0.5, 0.5, 0.5, 0.5, 0.5, 0.5, 0.5, 0.5, 0.5, 0.5, 0.5,\n",
       "       0.5, 0.5, 0.5, 0.5, 0.5, 0.5, 0.5, 0.5, 0.5, 0.5, 0.5, 0.5, 0.5,\n",
       "       0.5, 0.5, 0.5, 0.5, 0.5, 0.5, 0.5, 0.5, 0.5, 0.5, 0.5, 0.5, 0.5,\n",
       "       0.5, 0.5, 0.5, 0.5, 0.5, 0.5, 0.5, 0.5, 0.5, 0.5, 0.5, 0.5, 0.5,\n",
       "       0.5, 0.5, 0.5, 0.5, 0.5, 0.5, 0.5, 0.5, 0.5, 0.5, 0.5, 0.5, 0.5,\n",
       "       0.5, 0.5, 0.5, 0.5, 0.5, 0.5, 0.5, 0.5, 0.5, 0.5, 0.5, 0.5, 0.5,\n",
       "       0.5, 0.5, 0.5, 0.5, 0.5, 0.5, 0.5, 0.5, 0.5, 0.5, 0.5, 0.5, 0.5,\n",
       "       0.5, 0.5, 0.5, 0.5, 0.5, 0.5, 0.5, 0.5, 0.5, 0.5, 0.5, 0.5, 0.5,\n",
       "       0.5, 0.5, 0.5, 0.5, 0.5, 0.5, 0.5, 0.5, 0.5, 0.5, 0.5, 0.5, 0.5,\n",
       "       0.5, 0.5, 0.5, 0.5, 0.5, 0.5, 0.5, 0.5, 0.5, 0.5, 0.5, 0.5, 0.5,\n",
       "       0.5, 0.5, 0.5, 0.5, 0.5, 0.5, 0.5, 0.5, 0.5, 0.5, 0.5, 0.5, 0.5,\n",
       "       0.5, 0.5, 0.5, 0.5, 0.5, 0.5, 0.5, 0.5, 0.5])"
      ]
     },
     "execution_count": 118,
     "metadata": {},
     "output_type": "execute_result"
    }
   ],
   "source": [
    "w_at_post"
   ]
  },
  {
   "cell_type": "code",
   "execution_count": 105,
   "metadata": {},
   "outputs": [
    {
     "data": {
      "text/plain": [
       "(array([ 14,  49,  84, 119, 154, 189]),)"
      ]
     },
     "execution_count": 105,
     "metadata": {},
     "output_type": "execute_result"
    }
   ],
   "source": [
    "np.where(post_data == 1)"
   ]
  },
  {
   "cell_type": "code",
   "execution_count": 99,
   "metadata": {},
   "outputs": [
    {
     "data": {
      "image/png": "[encoded data removed]",
      "text/plain": [
       "<Figure size 509.76x360 with 3 Axes>"
      ]
     },
     "metadata": {
      "needs_background": "light"
     },
     "output_type": "display_data"
    }
   ],
   "source": [
    "plt.figure(figsize=(7.08,5))\n",
    "\n",
    "p1 = plt.subplot(3, 1, 1)\n",
    "plt.plot(sim.trange(), sim.data[p_stim_pre], label='stim')\n",
    "plt.plot(sim.trange(), sim.data[p_pre_v], label='voltage')\n",
    "plt.plot(sim.trange(), sim.data[p_pre]/1000, c='k', label='spikes')\n",
    "plt.ylabel('pre')\n",
    "# plt.legend()\n",
    "# plt.legend(loc='upper right')\n",
    "# , bbox_to_anchor=(1.8, 1)\n",
    "p2 = plt.subplot(3, 1, 2)\n",
    "# plt.plot(sim.trange(), sim.data[p_stim_post], label='stim')\n",
    "# plt.plot(sim.trange(), sim.data[p_post_v], label='voltage')\n",
    "plt.plot(sim.trange(), sim.data[p_post]/1000, c='k', label='spikes')\n",
    "plt.ylabel('post')\n",
    "# plt.legend()\n",
    "\n",
    "plt.subplot(3, 1, 3)\n",
    "plt.plot(sim.trange(), np.array(weights)[:,0,0], label='weight', c = 'red')\n",
    "plt.ylabel('weight')\n",
    "# plt.legend()\n",
    "plt.tight_layout()"
   ]
  },
  {
   "cell_type": "code",
   "execution_count": 37,
   "metadata": {},
   "outputs": [
    {
     "data": {
      "text/plain": [
       "array([], dtype=float64)"
      ]
     },
     "execution_count": 37,
     "metadata": {},
     "output_type": "execute_result"
    }
   ],
   "source": [
    "dtau[np.nonzero(dw_at_post)]"
   ]
  },
  {
   "cell_type": "code",
   "execution_count": 38,
   "metadata": {},
   "outputs": [
    {
     "data": {
      "text/plain": [
       "array([ 0.,  0.,  0., -0., -0.,  0.,  0., -0., -0., -0.,  0.,  0., -0.,\n",
       "       -0., -0.,  0.,  0., -0., -0.,  0.,  0.,  0., -0., -0.,  0.,  0.,\n",
       "        0., -0., -0.,  0.,  0., -0., -0., -0.,  0.,  0., -0., -0., -0.,\n",
       "        0.,  0., -0., -0.,  0.,  0.,  0., -0., -0.,  0.,  0.,  0., -0.,\n",
       "       -0.,  0.,  0.,  0., -0., -0.,  0.,  0.,  0., -0., -0.,  0.,  0.,\n",
       "       -0., -0., -0.,  0.,  0., -0., -0., -0.,  0.,  0., -0., -0., -0.,\n",
       "        0.,  0., -0., -0., -0.,  0.,  0., -0., -0.,  0.,  0., -0., -0.,\n",
       "       -0.,  0.,  0.,  0., -0., -0.,  0.,  0.,  0., -0., -0.,  0.,  0.,\n",
       "        0., -0., -0.,  0.,  0.,  0., -0., -0.,  0.,  0., -0., -0., -0.,\n",
       "        0.,  0., -0., -0., -0.,  0.,  0., -0., -0.,  0.,  0.,  0., -0.,\n",
       "       -0.,  0.,  0., -0., -0., -0.,  0.,  0., -0., -0.,  0.,  0.,  0.,\n",
       "       -0., -0.,  0.,  0.,  0., -0., -0.,  0.,  0., -0., -0., -0.,  0.,\n",
       "        0., -0., -0., -0.,  0.,  0., -0., -0., -0.,  0.,  0.,  0., -0.,\n",
       "       -0.,  0.,  0.,  0., -0., -0.,  0.,  0., -0., -0., -0.,  0.,  0.,\n",
       "       -0., -0., -0.,  0.,  0., -0., -0.,  0.,  0.,  0., -0., -0., -0.,\n",
       "        0.,  0., -0., -0., -0.,  0.,  0., -0., -0., -0.,  0.,  0., -0.,\n",
       "       -0., -0.,  0.,  0., -0., -0., -0.,  0.,  0., -0., -0., -0.,  0.,\n",
       "        0., -0., -0.,  0.,  0.,  0., -0., -0.,  0.,  0., -0., -0., -0.,\n",
       "        0.,  0., -0., -0., -0.,  0.,  0., -0., -0., -0.,  0.,  0., -0.,\n",
       "       -0.,  0.,  0.,  0., -0., -0.,  0.,  0., -0., -0., -0.,  0.,  0.,\n",
       "       -0., -0., -0.,  0.,  0., -0., -0.,  0.,  0.,  0., -0., -0.,  0.,\n",
       "        0.,  0., -0., -0.,  0.,  0.,  0., -0., -0.,  0.,  0.,  0., -0.,\n",
       "       -0.,  0.,  0., -0., -0., -0.,  0.,  0., -0., -0., -0.,  0.,  0.,\n",
       "       -0., -0., -0.,  0.,  0., -0., -0.,  0.,  0.,  0., -0., -0.,  0.,\n",
       "        0.,  0., -0., -0.,  0.,  0., -0., -0., -0.,  0.,  0., -0., -0.,\n",
       "       -0.,  0.,  0., -0., -0., -0.,  0.,  0., -0., -0.,  0.,  0.,  0.,\n",
       "       -0., -0.,  0.,  0.,  0., -0., -0.,  0.,  0., -0., -0., -0.,  0.,\n",
       "        0., -0., -0., -0.,  0.,  0., -0., -0.,  0.,  0.,  0., -0., -0.,\n",
       "        0.,  0.,  0., -0., -0., -0.,  0.,  0., -0., -0., -0.,  0.,  0.,\n",
       "       -0., -0., -0.,  0.,  0., -0., -0., -0.,  0.,  0., -0., -0.,  0.,\n",
       "        0.,  0., -0., -0.,  0.,  0.,  0., -0., -0.,  0.,  0., -0., -0.,\n",
       "       -0.,  0.,  0., -0., -0., -0.,  0.,  0., -0., -0., -0.,  0.,  0.,\n",
       "       -0., -0., -0.,  0.,  0., -0., -0.,  0.,  0.,  0., -0., -0.,  0.,\n",
       "        0., -0., -0.,  0.,  0.,  0., -0., -0.,  0.,  0.,  0., -0., -0.,\n",
       "        0.,  0.,  0., -0., -0.,  0.,  0.,  0., -0., -0.,  0.,  0.,  0.,\n",
       "       -0., -0.,  0.,  0.,  0., -0., -0.,  0.,  0., -0., -0., -0.,  0.,\n",
       "        0., -0., -0., -0.,  0.,  0., -0., -0.,  0.,  0.,  0., -0., -0.,\n",
       "        0.,  0.,  0., -0., -0.,  0.,  0.,  0., -0., -0.,  0.,  0., -0.,\n",
       "       -0., -0.,  0.,  0., -0., -0., -0.,  0.,  0., -0., -0.,  0.,  0.,\n",
       "        0., -0., -0.,  0.,  0.,  0., -0., -0., -0.,  0.,  0., -0., -0.,\n",
       "        0.,  0.,  0., -0., -0.,  0.,  0.,  0., -0., -0., -0.,  0.,  0.,\n",
       "       -0., -0.,  0.,  0.,  0., -0., -0.,  0.,  0., -0., -0., -0.,  0.,\n",
       "        0., -0., -0., -0.,  0.,  0., -0., -0.,  0.,  0.,  0., -0., -0.,\n",
       "        0.,  0.,  0., -0., -0.,  0.,  0.,  0., -0.])"
      ]
     },
     "execution_count": 38,
     "metadata": {},
     "output_type": "execute_result"
    }
   ],
   "source": [
    "dw_at_post"
   ]
  },
  {
   "cell_type": "markdown",
   "metadata": {},
   "source": [
    "# Step 4 : Now we perform the pavlov's dog experiment "
   ]
  },
  {
   "cell_type": "code",
   "execution_count": 41,
   "metadata": {},
   "outputs": [
    {
     "data": {
      "application/vdom.v1+json": {
       "attributes": {},
       "tagName": "div"
      },
      "text/html": [
       "\n",
       "                <script>\n",
       "                    if (Jupyter.version.split(\".\")[0] < 5) {\n",
       "                        var pb = document.getElementById(\"b6552711-6f64-42f8-8e63-8a6966028db3\");\n",
       "                        var text = document.createTextNode(\n",
       "                            \"HMTL progress bar requires Jupyter Notebook >= \" +\n",
       "                            \"5.0 or Jupyter Lab. Alternatively, you can use \" +\n",
       "                            \"TerminalProgressBar().\");\n",
       "                        pb.parentNode.insertBefore(text, pb);\n",
       "                    }\n",
       "                </script>\n",
       "                <div id=\"b6552711-6f64-42f8-8e63-8a6966028db3\" style=\"\n",
       "                    width: 100%;\n",
       "                    border: 1px solid #cfcfcf;\n",
       "                    border-radius: 4px;\n",
       "                    text-align: center;\n",
       "                    position: relative;\">\n",
       "                  <div class=\"pb-text\" style=\"\n",
       "                      position: absolute;\n",
       "                      width: 100%;\">\n",
       "                    0%\n",
       "                  </div>\n",
       "                  <div class=\"pb-fill\" style=\"\n",
       "                      background-color: #bdd2e6;\n",
       "                      width: 0%;\">\n",
       "                    <style type=\"text/css\" scoped=\"scoped\">\n",
       "                        @keyframes pb-fill-anim {\n",
       "                            0% { background-position: 0 0; }\n",
       "                            100% { background-position: 100px 0; }\n",
       "                        }\n",
       "                    </style>\n",
       "                    &nbsp;\n",
       "                  </div>\n",
       "                </div>"
      ],
      "text/plain": [
       "HtmlProgressBar cannot be displayed. Please use the TerminalProgressBar. It can be enabled with `nengo.rc['progress']['progress_bar'] = 'nengo.utils.progress.TerminalProgressBar'`."
      ]
     },
     "metadata": {},
     "output_type": "display_data"
    },
    {
     "data": {
      "application/vdom.v1+json": {
       "attributes": {
        "id": "e98290b3-c719-4181-b252-2650cdb56c01",
        "style": {
         "border": "1px solid #cfcfcf",
         "borderRadius": "4px",
         "boxSizing": "border-box",
         "position": "relative",
         "textAlign": "center",
         "width": "100%"
        }
       },
       "children": [
        {
         "attributes": {
          "class": "pb-text",
          "style": {
           "position": "absolute",
           "width": "100%"
          }
         },
         "children": [
          "Build finished in 0:00:01."
         ],
         "tagName": "div"
        },
        {
         "attributes": {
          "class": "pb-fill",
          "style": {
           "animation": "none",
           "backgroundColor": "#bdd2e6",
           "backgroundImage": "none",
           "backgroundSize": "100px 100%",
           "width": "100%"
          }
         },
         "children": [
          {
           "attributes": {
            "scoped": "scoped",
            "type": "text/css"
           },
           "children": [
            "\n                        @keyframes pb-fill-anim {\n                            0% { background-position: 0 0; }\n                            100% { background-position: 100px 0; }\n                        }}"
           ],
           "tagName": "style"
          },
          " "
         ],
         "tagName": "div"
        }
       ],
       "tagName": "div"
      },
      "text/html": [
       "<script>\n",
       "              (function () {\n",
       "                  var root = document.getElementById('b6552711-6f64-42f8-8e63-8a6966028db3');\n",
       "                  var text = root.getElementsByClassName('pb-text')[0];\n",
       "                  var fill = root.getElementsByClassName('pb-fill')[0];\n",
       "\n",
       "                  text.innerHTML = 'Build finished in 0:00:01.';\n",
       "                  \n",
       "            fill.style.width = '100%';\n",
       "            fill.style.animation = 'pb-fill-anim 2s linear infinite';\n",
       "            fill.style.backgroundSize = '100px 100%';\n",
       "            fill.style.backgroundImage = 'repeating-linear-gradient(' +\n",
       "                '90deg, #bdd2e6, #edf2f8 40%, #bdd2e6 80%, #bdd2e6)';\n",
       "        \n",
       "                  \n",
       "                fill.style.animation = 'none';\n",
       "                fill.style.backgroundImage = 'none';\n",
       "            \n",
       "              })();\n",
       "        </script>"
      ]
     },
     "metadata": {},
     "output_type": "display_data"
    },
    {
     "data": {
      "application/vdom.v1+json": {
       "attributes": {},
       "tagName": "div"
      },
      "text/html": [
       "\n",
       "                <script>\n",
       "                    if (Jupyter.version.split(\".\")[0] < 5) {\n",
       "                        var pb = document.getElementById(\"e8e541fd-f4b9-42f6-a19d-3eebc1eb510f\");\n",
       "                        var text = document.createTextNode(\n",
       "                            \"HMTL progress bar requires Jupyter Notebook >= \" +\n",
       "                            \"5.0 or Jupyter Lab. Alternatively, you can use \" +\n",
       "                            \"TerminalProgressBar().\");\n",
       "                        pb.parentNode.insertBefore(text, pb);\n",
       "                    }\n",
       "                </script>\n",
       "                <div id=\"e8e541fd-f4b9-42f6-a19d-3eebc1eb510f\" style=\"\n",
       "                    width: 100%;\n",
       "                    border: 1px solid #cfcfcf;\n",
       "                    border-radius: 4px;\n",
       "                    text-align: center;\n",
       "                    position: relative;\">\n",
       "                  <div class=\"pb-text\" style=\"\n",
       "                      position: absolute;\n",
       "                      width: 100%;\">\n",
       "                    0%\n",
       "                  </div>\n",
       "                  <div class=\"pb-fill\" style=\"\n",
       "                      background-color: #bdd2e6;\n",
       "                      width: 0%;\">\n",
       "                    <style type=\"text/css\" scoped=\"scoped\">\n",
       "                        @keyframes pb-fill-anim {\n",
       "                            0% { background-position: 0 0; }\n",
       "                            100% { background-position: 100px 0; }\n",
       "                        }\n",
       "                    </style>\n",
       "                    &nbsp;\n",
       "                  </div>\n",
       "                </div>"
      ],
      "text/plain": [
       "HtmlProgressBar cannot be displayed. Please use the TerminalProgressBar. It can be enabled with `nengo.rc['progress']['progress_bar'] = 'nengo.utils.progress.TerminalProgressBar'`."
      ]
     },
     "metadata": {},
     "output_type": "display_data"
    },
    {
     "data": {
      "application/vdom.v1+json": {
       "attributes": {
        "id": "0da5067c-ca41-4aaa-a86b-0992916d5881",
        "style": {
         "border": "1px solid #cfcfcf",
         "borderRadius": "4px",
         "boxSizing": "border-box",
         "position": "relative",
         "textAlign": "center",
         "width": "100%"
        }
       },
       "children": [
        {
         "attributes": {
          "class": "pb-text",
          "style": {
           "position": "absolute",
           "width": "100%"
          }
         },
         "children": [
          "Simulation finished in 0:00:08."
         ],
         "tagName": "div"
        },
        {
         "attributes": {
          "class": "pb-fill",
          "style": {
           "animation": "none",
           "backgroundColor": "#bdd2e6",
           "backgroundImage": "none",
           "transition": "width 0.1s linear",
           "width": "100%"
          }
         },
         "children": [
          {
           "attributes": {
            "scoped": "scoped",
            "type": "text/css"
           },
           "children": [
            "\n                        @keyframes pb-fill-anim {\n                            0% { background-position: 0 0; }\n                            100% { background-position: 100px 0; }\n                        }}"
           ],
           "tagName": "style"
          },
          " "
         ],
         "tagName": "div"
        }
       ],
       "tagName": "div"
      },
      "text/html": [
       "<script>\n",
       "              (function () {\n",
       "                  var root = document.getElementById('e8e541fd-f4b9-42f6-a19d-3eebc1eb510f');\n",
       "                  var text = root.getElementsByClassName('pb-text')[0];\n",
       "                  var fill = root.getElementsByClassName('pb-fill')[0];\n",
       "\n",
       "                  text.innerHTML = 'Simulation finished in 0:00:08.';\n",
       "                  \n",
       "            if (100.0 > 0.) {\n",
       "                fill.style.transition = 'width 0.1s linear';\n",
       "            } else {\n",
       "                fill.style.transition = 'none';\n",
       "            }\n",
       "\n",
       "            fill.style.width = '100.0%';\n",
       "            fill.style.animation = 'none';\n",
       "            fill.style.backgroundImage = 'none'\n",
       "        \n",
       "                  \n",
       "                fill.style.animation = 'none';\n",
       "                fill.style.backgroundImage = 'none';\n",
       "            \n",
       "              })();\n",
       "        </script>"
      ]
     },
     "metadata": {},
     "output_type": "display_data"
    },
    {
     "data": {
      "image/png": "[encoded data removed]",
      "text/plain": [
       "<Figure size 504x504 with 4 Axes>"
      ]
     },
     "metadata": {
      "needs_background": "light"
     },
     "output_type": "display_data"
    }
   ],
   "source": [
    "wmax = 1/5\n",
    "winit = 1/5\n",
    "lr = 1\n",
    "model = nengo.Network()\n",
    "with model:\n",
    "\n",
    "    bell = nengo.Ensemble(n_neurons=1, dimensions=1, encoders=[[1]], gain=[2], bias=[0.6], neuron_type=MyLIF_in(tau_rc=0.15, min_voltage=-1))\n",
    "    food = nengo.Ensemble(n_neurons=1, dimensions=1, encoders=[[1]], gain=[2], bias=[0.6], neuron_type=MyLIF_in(tau_rc=0.15, min_voltage=-1))\n",
    "    saliva = nengo.Ensemble(n_neurons=1, dimensions=1, encoders=[[1]], gain=[2], bias=[0],neuron_type=MyLIF_in(tau_rc=0.1, min_voltage=-1))\n",
    "\n",
    "    stim_food = nengo.Node(lambda t: 1 if (2<t%10<4 or 5<t%10<7) else 0)\n",
    "    stim_bell = nengo.Node(lambda t: 1 if (3<t%10<5 or 1<t%10<2) else 0)\n",
    "\n",
    "    nengo.Connection(stim_food, food, synapse=None)\n",
    "    nengo.Connection(stim_bell, bell, synapse=None)\n",
    "\n",
    "    w = nengo.Node(CustomRule_post_tio2(winit_min=winit,winit_max=winit), size_in=1, size_out=1)  \n",
    "    nengo.Connection(bell.neurons, w, synapse=None)\n",
    "    nengo.Connection(w, saliva.neurons,transform=[wmax*500], synapse=None)\n",
    "\n",
    "    nengo.Connection(food.neurons, saliva.neurons,transform=[wmax*0.25], synapse=None)\n",
    "\n",
    "    p_bell = nengo.Probe(bell.neurons)\n",
    "    p_food = nengo.Probe(food.neurons)    \n",
    "    p_saliva = nengo.Probe(saliva.neurons)\n",
    "    p_saliva_v = nengo.Probe(saliva.neurons, 'voltage')\n",
    "    p_food_v = nengo.Probe(food.neurons, 'voltage')\n",
    "    p_bell_v = nengo.Probe(bell.neurons, 'voltage')\n",
    "\n",
    "    weights = w.output.history\n",
    "\n",
    "sim = nengo.Simulator(model)\n",
    "\n",
    "# w.output.set_signal(sim.signals[sim.model.sig[saliva.neurons][\"voltage\"]])\n",
    "w.output.set_signal_vmem(sim.signals[sim.model.sig[bell.neurons][\"voltage\"]])\n",
    "w.output.set_signal_out(sim.signals[sim.model.sig[saliva.neurons][\"out\"]])\n",
    "\n",
    "sim.run(7)  \n",
    "\n",
    "plt.figure(figsize=(7,7))\n",
    "\n",
    "plt.subplot(4, 1, 1)\n",
    "# plt.title('a')\n",
    "\n",
    "plt.plot(sim.trange(), sim.data[p_bell]/500, c='k', label='spikes')\n",
    "plt.plot(sim.trange(), sim.data[p_bell_v], label='voltage')\n",
    "plt.ylabel('bell')\n",
    "plt.xlabel(\"Time[s]\")\n",
    "plt.legend()\n",
    "\n",
    "plt.subplot(4, 1, 2)\n",
    "# plt.title('b')\n",
    "plt.plot(sim.trange(), sim.data[p_food]/500, c='k', label='spikes')\n",
    "plt.plot(sim.trange(), sim.data[p_food_v], label='voltage')\n",
    "plt.ylabel('food')\n",
    "plt.xlabel(\"Time[s]\")\n",
    "plt.legend()\n",
    "\n",
    "plt.subplot(4, 1, 3)\n",
    "# plt.title('c')\n",
    "plt.plot(sim.trange(), sim.data[p_saliva]/500, c='k', label='spikes')\n",
    "plt.plot(sim.trange(), sim.data[p_saliva_v], label='voltage')\n",
    "plt.ylabel('saliva')\n",
    "plt.xlabel(\"Time[s]\")\n",
    "plt.legend()\n",
    "\n",
    "plt.subplot(4, 1, 4)\n",
    "# plt.title('d')\n",
    "plt.plot(sim.trange(), np.array(weights)[:,:,0], label='weight_bell')\n",
    "plt.xlabel(\"Time[s]\")\n",
    "plt.ylabel(\"w\")\n",
    "plt.legend()\n",
    "\n",
    "plt.tight_layout()\n",
    "plt.savefig('dog'+'winit'+str(winit)+'wmax'+str(wmax)+'lr'+str(lr)+'.jpeg', dpi=400)\n",
    "# plt.close()"
   ]
  },
  {
   "cell_type": "markdown",
   "metadata": {},
   "source": [
    "## Adding noise to input"
   ]
  },
  {
   "cell_type": "code",
   "execution_count": 44,
   "metadata": {},
   "outputs": [],
   "source": [
    "process = nengo.processes.WhiteNoise(dist=nengo.dists.Gaussian(0, 0.09), seed=1)"
   ]
  },
  {
   "cell_type": "code",
   "execution_count": 40,
   "metadata": {},
   "outputs": [
    {
     "data": {
      "application/vdom.v1+json": {
       "attributes": {},
       "tagName": "div"
      },
      "text/html": [
       "\n",
       "                <script>\n",
       "                    if (Jupyter.version.split(\".\")[0] < 5) {\n",
       "                        var pb = document.getElementById(\"42dad589-6163-45e8-a732-7d7431b5f232\");\n",
       "                        var text = document.createTextNode(\n",
       "                            \"HMTL progress bar requires Jupyter Notebook >= \" +\n",
       "                            \"5.0 or Jupyter Lab. Alternatively, you can use \" +\n",
       "                            \"TerminalProgressBar().\");\n",
       "                        pb.parentNode.insertBefore(text, pb);\n",
       "                    }\n",
       "                </script>\n",
       "                <div id=\"42dad589-6163-45e8-a732-7d7431b5f232\" style=\"\n",
       "                    width: 100%;\n",
       "                    border: 1px solid #cfcfcf;\n",
       "                    border-radius: 4px;\n",
       "                    text-align: center;\n",
       "                    position: relative;\">\n",
       "                  <div class=\"pb-text\" style=\"\n",
       "                      position: absolute;\n",
       "                      width: 100%;\">\n",
       "                    0%\n",
       "                  </div>\n",
       "                  <div class=\"pb-fill\" style=\"\n",
       "                      background-color: #bdd2e6;\n",
       "                      width: 0%;\">\n",
       "                    <style type=\"text/css\" scoped=\"scoped\">\n",
       "                        @keyframes pb-fill-anim {\n",
       "                            0% { background-position: 0 0; }\n",
       "                            100% { background-position: 100px 0; }\n",
       "                        }\n",
       "                    </style>\n",
       "                    &nbsp;\n",
       "                  </div>\n",
       "                </div>"
      ],
      "text/plain": [
       "HtmlProgressBar cannot be displayed. Please use the TerminalProgressBar. It can be enabled with `nengo.rc['progress']['progress_bar'] = 'nengo.utils.progress.TerminalProgressBar'`."
      ]
     },
     "metadata": {},
     "output_type": "display_data"
    },
    {
     "data": {
      "application/vdom.v1+json": {
       "attributes": {
        "id": "411e7aca-157a-4f57-9fdd-50dd91a2fd57",
        "style": {
         "border": "1px solid #cfcfcf",
         "borderRadius": "4px",
         "boxSizing": "border-box",
         "position": "relative",
         "textAlign": "center",
         "width": "100%"
        }
       },
       "children": [
        {
         "attributes": {
          "class": "pb-text",
          "style": {
           "position": "absolute",
           "width": "100%"
          }
         },
         "children": [
          "Build finished in 0:00:01."
         ],
         "tagName": "div"
        },
        {
         "attributes": {
          "class": "pb-fill",
          "style": {
           "animation": "none",
           "backgroundColor": "#bdd2e6",
           "backgroundImage": "none",
           "backgroundSize": "100px 100%",
           "width": "100%"
          }
         },
         "children": [
          {
           "attributes": {
            "scoped": "scoped",
            "type": "text/css"
           },
           "children": [
            "\n                        @keyframes pb-fill-anim {\n                            0% { background-position: 0 0; }\n                            100% { background-position: 100px 0; }\n                        }}"
           ],
           "tagName": "style"
          },
          " "
         ],
         "tagName": "div"
        }
       ],
       "tagName": "div"
      },
      "text/html": [
       "<script>\n",
       "              (function () {\n",
       "                  var root = document.getElementById('42dad589-6163-45e8-a732-7d7431b5f232');\n",
       "                  var text = root.getElementsByClassName('pb-text')[0];\n",
       "                  var fill = root.getElementsByClassName('pb-fill')[0];\n",
       "\n",
       "                  text.innerHTML = 'Build finished in 0:00:01.';\n",
       "                  \n",
       "            fill.style.width = '100%';\n",
       "            fill.style.animation = 'pb-fill-anim 2s linear infinite';\n",
       "            fill.style.backgroundSize = '100px 100%';\n",
       "            fill.style.backgroundImage = 'repeating-linear-gradient(' +\n",
       "                '90deg, #bdd2e6, #edf2f8 40%, #bdd2e6 80%, #bdd2e6)';\n",
       "        \n",
       "                  \n",
       "                fill.style.animation = 'none';\n",
       "                fill.style.backgroundImage = 'none';\n",
       "            \n",
       "              })();\n",
       "        </script>"
      ]
     },
     "metadata": {},
     "output_type": "display_data"
    },
    {
     "data": {
      "application/vdom.v1+json": {
       "attributes": {},
       "tagName": "div"
      },
      "text/html": [
       "\n",
       "                <script>\n",
       "                    if (Jupyter.version.split(\".\")[0] < 5) {\n",
       "                        var pb = document.getElementById(\"227cfb6d-4663-49fd-a210-3da2c93a7f3c\");\n",
       "                        var text = document.createTextNode(\n",
       "                            \"HMTL progress bar requires Jupyter Notebook >= \" +\n",
       "                            \"5.0 or Jupyter Lab. Alternatively, you can use \" +\n",
       "                            \"TerminalProgressBar().\");\n",
       "                        pb.parentNode.insertBefore(text, pb);\n",
       "                    }\n",
       "                </script>\n",
       "                <div id=\"227cfb6d-4663-49fd-a210-3da2c93a7f3c\" style=\"\n",
       "                    width: 100%;\n",
       "                    border: 1px solid #cfcfcf;\n",
       "                    border-radius: 4px;\n",
       "                    text-align: center;\n",
       "                    position: relative;\">\n",
       "                  <div class=\"pb-text\" style=\"\n",
       "                      position: absolute;\n",
       "                      width: 100%;\">\n",
       "                    0%\n",
       "                  </div>\n",
       "                  <div class=\"pb-fill\" style=\"\n",
       "                      background-color: #bdd2e6;\n",
       "                      width: 0%;\">\n",
       "                    <style type=\"text/css\" scoped=\"scoped\">\n",
       "                        @keyframes pb-fill-anim {\n",
       "                            0% { background-position: 0 0; }\n",
       "                            100% { background-position: 100px 0; }\n",
       "                        }\n",
       "                    </style>\n",
       "                    &nbsp;\n",
       "                  </div>\n",
       "                </div>"
      ],
      "text/plain": [
       "HtmlProgressBar cannot be displayed. Please use the TerminalProgressBar. It can be enabled with `nengo.rc['progress']['progress_bar'] = 'nengo.utils.progress.TerminalProgressBar'`."
      ]
     },
     "metadata": {},
     "output_type": "display_data"
    },
    {
     "data": {
      "application/vdom.v1+json": {
       "attributes": {
        "id": "b3a1de7e-4898-4ab1-87d6-c3ccac7906c2",
        "style": {
         "border": "1px solid #cfcfcf",
         "borderRadius": "4px",
         "boxSizing": "border-box",
         "position": "relative",
         "textAlign": "center",
         "width": "100%"
        }
       },
       "children": [
        {
         "attributes": {
          "class": "pb-text",
          "style": {
           "position": "absolute",
           "width": "100%"
          }
         },
         "children": [
          "Simulation finished in 0:00:07."
         ],
         "tagName": "div"
        },
        {
         "attributes": {
          "class": "pb-fill",
          "style": {
           "animation": "none",
           "backgroundColor": "#bdd2e6",
           "backgroundImage": "none",
           "transition": "width 0.1s linear",
           "width": "100%"
          }
         },
         "children": [
          {
           "attributes": {
            "scoped": "scoped",
            "type": "text/css"
           },
           "children": [
            "\n                        @keyframes pb-fill-anim {\n                            0% { background-position: 0 0; }\n                            100% { background-position: 100px 0; }\n                        }}"
           ],
           "tagName": "style"
          },
          " "
         ],
         "tagName": "div"
        }
       ],
       "tagName": "div"
      },
      "text/html": [
       "<script>\n",
       "              (function () {\n",
       "                  var root = document.getElementById('227cfb6d-4663-49fd-a210-3da2c93a7f3c');\n",
       "                  var text = root.getElementsByClassName('pb-text')[0];\n",
       "                  var fill = root.getElementsByClassName('pb-fill')[0];\n",
       "\n",
       "                  text.innerHTML = 'Simulation finished in 0:00:07.';\n",
       "                  \n",
       "            if (100.0 > 0.) {\n",
       "                fill.style.transition = 'width 0.1s linear';\n",
       "            } else {\n",
       "                fill.style.transition = 'none';\n",
       "            }\n",
       "\n",
       "            fill.style.width = '100.0%';\n",
       "            fill.style.animation = 'none';\n",
       "            fill.style.backgroundImage = 'none'\n",
       "        \n",
       "                  \n",
       "                fill.style.animation = 'none';\n",
       "                fill.style.backgroundImage = 'none';\n",
       "            \n",
       "              })();\n",
       "        </script>"
      ]
     },
     "metadata": {},
     "output_type": "display_data"
    },
    {
     "data": {
      "image/png": "[encoded data removed]",
      "text/plain": [
       "<Figure size 504x504 with 4 Axes>"
      ]
     },
     "metadata": {
      "needs_background": "light"
     },
     "output_type": "display_data"
    }
   ],
   "source": [
    "wmax = 1/5\n",
    "winit = 1/5\n",
    "lr = 1\n",
    "model = nengo.Network()\n",
    "with model:\n",
    "\n",
    "    bell = nengo.Ensemble(n_neurons=1, noise=process, dimensions=1, encoders=[[1]], gain=[2], bias=[0.6], neuron_type=(MyLIF_in(tau_rc=0.15, min_voltage=-1)))\n",
    "    food = nengo.Ensemble(n_neurons=1, noise=process, dimensions=1, encoders=[[1]], gain=[2], bias=[0.6], neuron_type=MyLIF_in(tau_rc=0.15, min_voltage=-1))\n",
    "    saliva = nengo.Ensemble(n_neurons=1, dimensions=1, encoders=[[1]], gain=[2], bias=[0],neuron_type=MyLIF_in(tau_rc=0.1, min_voltage=-1))\n",
    "\n",
    "    stim_food = nengo.Node(lambda t: 1 if (2<t%10<4 or 5<t%10<7) else 0)\n",
    "    stim_bell = nengo.Node(lambda t: 1 if (3<t%10<5 or 1<t%10<2) else 0)\n",
    "\n",
    "    nengo.Connection(stim_food, food, synapse=None)\n",
    "    nengo.Connection(stim_bell, bell, synapse=None)\n",
    "\n",
    "    w = nengo.Node(CustomRule_post_tio2(winit_min=winit,winit_max=winit), size_in=1, size_out=1)  \n",
    "    nengo.Connection(bell.neurons, w, synapse=None)\n",
    "    nengo.Connection(w, saliva.neurons,transform=[wmax*500], synapse=None)\n",
    "\n",
    "    nengo.Connection(food.neurons, saliva.neurons,transform=[wmax*0.25], synapse=None)\n",
    "\n",
    "    p_bell = nengo.Probe(bell.neurons)\n",
    "    p_food = nengo.Probe(food.neurons)    \n",
    "    p_saliva = nengo.Probe(saliva.neurons)\n",
    "    p_saliva_v = nengo.Probe(saliva.neurons, 'voltage')\n",
    "    p_food_v = nengo.Probe(food.neurons, 'voltage')\n",
    "    p_bell_v = nengo.Probe(bell.neurons, 'voltage')\n",
    "\n",
    "    weights = w.output.history\n",
    "\n",
    "sim = nengo.Simulator(model)\n",
    "\n",
    "# w.output.set_signal(sim.signals[sim.model.sig[saliva.neurons][\"voltage\"]])\n",
    "w.output.set_signal_vmem(sim.signals[sim.model.sig[bell.neurons][\"voltage\"]])\n",
    "w.output.set_signal_out(sim.signals[sim.model.sig[saliva.neurons][\"out\"]])\n",
    "\n",
    "sim.run(7)  \n",
    "\n",
    "plt.figure(figsize=(7,7))\n",
    "\n",
    "plt.subplot(4, 1, 1)\n",
    "# plt.title('a')\n",
    "\n",
    "plt.plot(sim.trange(), sim.data[p_bell]/500, c='k', label='spikes')\n",
    "plt.plot(sim.trange(), sim.data[p_bell_v], label='voltage')\n",
    "plt.ylabel('bell')\n",
    "plt.xlabel(\"Time[s]\")\n",
    "plt.legend()\n",
    "\n",
    "plt.subplot(4, 1, 2)\n",
    "# plt.title('b')\n",
    "plt.plot(sim.trange(), sim.data[p_food]/500, c='k', label='spikes')\n",
    "plt.plot(sim.trange(), sim.data[p_food_v], label='voltage')\n",
    "plt.ylabel('food')\n",
    "plt.xlabel(\"Time[s]\")\n",
    "plt.legend()\n",
    "\n",
    "plt.subplot(4, 1, 3)\n",
    "# plt.title('c')\n",
    "plt.plot(sim.trange(), sim.data[p_saliva]/500, c='k', label='spikes')\n",
    "plt.plot(sim.trange(), sim.data[p_saliva_v], label='voltage')\n",
    "plt.ylabel('saliva')\n",
    "plt.xlabel(\"Time[s]\")\n",
    "plt.legend()\n",
    "\n",
    "plt.subplot(4, 1, 4)\n",
    "# plt.title('d')\n",
    "plt.plot(sim.trange(), np.array(weights)[:,:,0], label='weight_bell')\n",
    "plt.xlabel(\"Time[s]\")\n",
    "plt.ylabel(\"w\")\n",
    "plt.legend()\n",
    "\n",
    "plt.tight_layout()\n",
    "plt.savefig('dog'+'winit'+str(winit)+'wmax'+str(wmax)+'lr'+str(lr)+'noisy'+'.jpeg', dpi=400)\n",
    "# plt.close()"
   ]
  },
  {
   "cell_type": "code",
   "execution_count": 31,
   "metadata": {},
   "outputs": [],
   "source": [
    "import keras"
   ]
  },
  {
   "cell_type": "code",
   "execution_count": 43,
   "metadata": {},
   "outputs": [],
   "source": [
    "(image_train, label_train), (image_test, label_test) = (keras.datasets.mnist.load_data())"
   ]
  },
  {
   "cell_type": "code",
   "execution_count": 46,
   "metadata": {},
   "outputs": [
    {
     "data": {
      "text/plain": [
       "33.318421449829934"
      ]
     },
     "execution_count": 46,
     "metadata": {},
     "output_type": "execute_result"
    }
   ],
   "source": [
    "image_train.mean()"
   ]
  },
  {
   "cell_type": "code",
   "execution_count": 46,
   "metadata": {},
   "outputs": [
    {
     "data": {
      "application/vdom.v1+json": {
       "attributes": {},
       "tagName": "div"
      },
      "text/html": [
       "\n",
       "                <script>\n",
       "                    if (Jupyter.version.split(\".\")[0] < 5) {\n",
       "                        var pb = document.getElementById(\"8aaec420-84ee-4c7b-9530-ef720bd5d450\");\n",
       "                        var text = document.createTextNode(\n",
       "                            \"HMTL progress bar requires Jupyter Notebook >= \" +\n",
       "                            \"5.0 or Jupyter Lab. Alternatively, you can use \" +\n",
       "                            \"TerminalProgressBar().\");\n",
       "                        pb.parentNode.insertBefore(text, pb);\n",
       "                    }\n",
       "                </script>\n",
       "                <div id=\"8aaec420-84ee-4c7b-9530-ef720bd5d450\" style=\"\n",
       "                    width: 100%;\n",
       "                    border: 1px solid #cfcfcf;\n",
       "                    border-radius: 4px;\n",
       "                    text-align: center;\n",
       "                    position: relative;\">\n",
       "                  <div class=\"pb-text\" style=\"\n",
       "                      position: absolute;\n",
       "                      width: 100%;\">\n",
       "                    0%\n",
       "                  </div>\n",
       "                  <div class=\"pb-fill\" style=\"\n",
       "                      background-color: #bdd2e6;\n",
       "                      width: 0%;\">\n",
       "                    <style type=\"text/css\" scoped=\"scoped\">\n",
       "                        @keyframes pb-fill-anim {\n",
       "                            0% { background-position: 0 0; }\n",
       "                            100% { background-position: 100px 0; }\n",
       "                        }\n",
       "                    </style>\n",
       "                    &nbsp;\n",
       "                  </div>\n",
       "                </div>"
      ],
      "text/plain": [
       "HtmlProgressBar cannot be displayed. Please use the TerminalProgressBar. It can be enabled with `nengo.rc['progress']['progress_bar'] = 'nengo.utils.progress.TerminalProgressBar'`."
      ]
     },
     "metadata": {},
     "output_type": "display_data"
    },
    {
     "data": {
      "application/vdom.v1+json": {
       "attributes": {
        "id": "b1a4d8a5-4427-4fec-843a-8f0e12b99d4b",
        "style": {
         "border": "1px solid #cfcfcf",
         "borderRadius": "4px",
         "boxSizing": "border-box",
         "position": "relative",
         "textAlign": "center",
         "width": "100%"
        }
       },
       "children": [
        {
         "attributes": {
          "class": "pb-text",
          "style": {
           "position": "absolute",
           "width": "100%"
          }
         },
         "children": [
          "Build finished in 0:00:01."
         ],
         "tagName": "div"
        },
        {
         "attributes": {
          "class": "pb-fill",
          "style": {
           "animation": "none",
           "backgroundColor": "#bdd2e6",
           "backgroundImage": "none",
           "backgroundSize": "100px 100%",
           "width": "100%"
          }
         },
         "children": [
          {
           "attributes": {
            "scoped": "scoped",
            "type": "text/css"
           },
           "children": [
            "\n                        @keyframes pb-fill-anim {\n                            0% { background-position: 0 0; }\n                            100% { background-position: 100px 0; }\n                        }}"
           ],
           "tagName": "style"
          },
          " "
         ],
         "tagName": "div"
        }
       ],
       "tagName": "div"
      },
      "text/html": [
       "<script>\n",
       "              (function () {\n",
       "                  var root = document.getElementById('8aaec420-84ee-4c7b-9530-ef720bd5d450');\n",
       "                  var text = root.getElementsByClassName('pb-text')[0];\n",
       "                  var fill = root.getElementsByClassName('pb-fill')[0];\n",
       "\n",
       "                  text.innerHTML = 'Build finished in 0:00:01.';\n",
       "                  \n",
       "            fill.style.width = '100%';\n",
       "            fill.style.animation = 'pb-fill-anim 2s linear infinite';\n",
       "            fill.style.backgroundSize = '100px 100%';\n",
       "            fill.style.backgroundImage = 'repeating-linear-gradient(' +\n",
       "                '90deg, #bdd2e6, #edf2f8 40%, #bdd2e6 80%, #bdd2e6)';\n",
       "        \n",
       "                  \n",
       "                fill.style.animation = 'none';\n",
       "                fill.style.backgroundImage = 'none';\n",
       "            \n",
       "              })();\n",
       "        </script>"
      ]
     },
     "metadata": {},
     "output_type": "display_data"
    },
    {
     "data": {
      "application/vdom.v1+json": {
       "attributes": {},
       "tagName": "div"
      },
      "text/html": [
       "\n",
       "                <script>\n",
       "                    if (Jupyter.version.split(\".\")[0] < 5) {\n",
       "                        var pb = document.getElementById(\"9286f6c8-15ac-4698-b509-3db36471d9e3\");\n",
       "                        var text = document.createTextNode(\n",
       "                            \"HMTL progress bar requires Jupyter Notebook >= \" +\n",
       "                            \"5.0 or Jupyter Lab. Alternatively, you can use \" +\n",
       "                            \"TerminalProgressBar().\");\n",
       "                        pb.parentNode.insertBefore(text, pb);\n",
       "                    }\n",
       "                </script>\n",
       "                <div id=\"9286f6c8-15ac-4698-b509-3db36471d9e3\" style=\"\n",
       "                    width: 100%;\n",
       "                    border: 1px solid #cfcfcf;\n",
       "                    border-radius: 4px;\n",
       "                    text-align: center;\n",
       "                    position: relative;\">\n",
       "                  <div class=\"pb-text\" style=\"\n",
       "                      position: absolute;\n",
       "                      width: 100%;\">\n",
       "                    0%\n",
       "                  </div>\n",
       "                  <div class=\"pb-fill\" style=\"\n",
       "                      background-color: #bdd2e6;\n",
       "                      width: 0%;\">\n",
       "                    <style type=\"text/css\" scoped=\"scoped\">\n",
       "                        @keyframes pb-fill-anim {\n",
       "                            0% { background-position: 0 0; }\n",
       "                            100% { background-position: 100px 0; }\n",
       "                        }\n",
       "                    </style>\n",
       "                    &nbsp;\n",
       "                  </div>\n",
       "                </div>"
      ],
      "text/plain": [
       "HtmlProgressBar cannot be displayed. Please use the TerminalProgressBar. It can be enabled with `nengo.rc['progress']['progress_bar'] = 'nengo.utils.progress.TerminalProgressBar'`."
      ]
     },
     "metadata": {},
     "output_type": "display_data"
    },
    {
     "data": {
      "application/vdom.v1+json": {
       "attributes": {
        "id": "f4766f1c-bf9c-4c5b-b880-ff0c5576b154",
        "style": {
         "border": "1px solid #cfcfcf",
         "borderRadius": "4px",
         "boxSizing": "border-box",
         "position": "relative",
         "textAlign": "center",
         "width": "100%"
        }
       },
       "children": [
        {
         "attributes": {
          "class": "pb-text",
          "style": {
           "position": "absolute",
           "width": "100%"
          }
         },
         "children": [
          "Simulation finished in 0:00:01."
         ],
         "tagName": "div"
        },
        {
         "attributes": {
          "class": "pb-fill",
          "style": {
           "animation": "none",
           "backgroundColor": "#bdd2e6",
           "backgroundImage": "none",
           "transition": "width 0.1s linear",
           "width": "100%"
          }
         },
         "children": [
          {
           "attributes": {
            "scoped": "scoped",
            "type": "text/css"
           },
           "children": [
            "\n                        @keyframes pb-fill-anim {\n                            0% { background-position: 0 0; }\n                            100% { background-position: 100px 0; }\n                        }}"
           ],
           "tagName": "style"
          },
          " "
         ],
         "tagName": "div"
        }
       ],
       "tagName": "div"
      },
      "text/html": [
       "<script>\n",
       "              (function () {\n",
       "                  var root = document.getElementById('9286f6c8-15ac-4698-b509-3db36471d9e3');\n",
       "                  var text = root.getElementsByClassName('pb-text')[0];\n",
       "                  var fill = root.getElementsByClassName('pb-fill')[0];\n",
       "\n",
       "                  text.innerHTML = 'Simulation finished in 0:00:01.';\n",
       "                  \n",
       "            if (100.0 > 0.) {\n",
       "                fill.style.transition = 'width 0.1s linear';\n",
       "            } else {\n",
       "                fill.style.transition = 'none';\n",
       "            }\n",
       "\n",
       "            fill.style.width = '100.0%';\n",
       "            fill.style.animation = 'none';\n",
       "            fill.style.backgroundImage = 'none'\n",
       "        \n",
       "                  \n",
       "                fill.style.animation = 'none';\n",
       "                fill.style.backgroundImage = 'none';\n",
       "            \n",
       "              })();\n",
       "        </script>"
      ]
     },
     "metadata": {},
     "output_type": "display_data"
    }
   ],
   "source": [
    "model = nengo.Network()\n",
    "with model:\n",
    "    #pre synaptic neuron. Single neuron, with LIF neuron and reset voltage of -1 V. \n",
    "    pre = nengo.Ensemble(n_neurons=1, dimensions=1, encoders=[[1]], gain=[2], bias=[0],\n",
    "                        neuron_type=MyLIF_in(tau_rc=0.2, min_voltage=-1, tau_ref=0.002))\n",
    "\n",
    "#     pre = nengo.Ensemble(n_neurons=1, dimensions=1, encoders=[[1]], max_rates=[20], intercepts=[0],\n",
    "#                         neuron_type=MyLIF_in(tau_rc=0.06, min_voltage=-1, tau_ref=0.002))\n",
    "\n",
    "\n",
    "    #post synaptic neuron.\n",
    "    post = nengo.Ensemble(n_neurons=1, dimensions=1,noise=process,encoders=[[1]], max_rates=[20], intercepts=[0],\n",
    "                                  neuron_type=nengo.LIF(tau_rc=0.03, tau_ref=0.001))\n",
    "    \n",
    "    #Stimuli for pre neuron\n",
    "    stim_pre = nengo.Node(lambda t: 1 )#if 0.1<t%0.5<0.3 else 0)\n",
    "    #Stimuli for post neuron\n",
    "    stim_post = nengo.Node(lambda t: 1)# if 0.25<t%0.4<0.35 else 0)\n",
    "    #Connect the stimuli to respective neurons\n",
    "    nengo.Connection(stim_pre, pre, synapse=None)\n",
    "    nengo.Connection(stim_post, post, synapse=None)\n",
    "    \n",
    "    \n",
    "    w = nengo.Node(CustomRule_post_baseline(winit_min=0.5, winit_max=0.5, lr=0.001), size_in=1, size_out=1)\n",
    "    nengo.Connection(pre.neurons, w, synapse=None)\n",
    "    nengo.Connection(w, post.neurons, transform=[0],synapse=None) #The synapse does not contribute to the post neuron membrane voltage\n",
    "    \n",
    "    \n",
    "    #Probe definition\n",
    "    p_stim_pre = nengo.Probe(stim_pre)\n",
    "    p_stim_post = nengo.Probe(stim_post)\n",
    "    p_pre = nengo.Probe(pre.neurons)\n",
    "    p_post = nengo.Probe(post.neurons)\n",
    "    p_post_v = nengo.Probe(post.neurons, 'voltage')\n",
    "    p_pre_v = nengo.Probe(pre.neurons, 'voltage')\n",
    "    \n",
    "    weights = w.output.history\n",
    "    \n",
    "with nengo.Simulator(model, optimize=True) as sim:\n",
    "        \n",
    "    w.output.set_signal_vmem(sim.signals[sim.model.sig[pre.neurons][\"voltage\"]])\n",
    "    w.output.set_signal_out(sim.signals[sim.model.sig[post.neurons][\"out\"]])    \n",
    "    \n",
    "    sim.run(0.5)\n",
    "    \n",
    "# #Run the simulation for 2 seconds    \n",
    "# sim = nengo.Simulator(model, dt=0.001)\n",
    "# sim.run(0.5)\n",
    "\n",
    "#Plot the simulated data\n",
    "# plt.figure(figsize=(12,5))\n",
    "# plt.subplot(2, 1, 1)\n",
    "# plt.plot(sim.trange(), sim.data[p_stim_pre], label='stim')\n",
    "# plt.plot(sim.trange(), sim.data[p_pre_v], label='voltage')\n",
    "# plt.plot(sim.trange(), sim.data[p_pre]/1000, c='k', label='spikes')\n",
    "# plt.ylabel('pre')\n",
    "# plt.legend()\n",
    "\n",
    "# plt.subplot(2, 1, 2)\n",
    "# plt.plot(sim.trange(), sim.data[p_stim_post], label='stim')\n",
    "# # plt.plot(sim.trange(), sim.data[p_post_v], label='voltage')\n",
    "# plt.plot(sim.trange(), sim.data[p_post]/1000, c='k', label='spikes')\n",
    "# plt.ylabel('post')\n",
    "# plt.legend()\n",
    "# plt.savefig('VDSP_character_neuron',bbox_inches='tight',dpi=500)"
   ]
  },
  {
   "cell_type": "code",
   "execution_count": 49,
   "metadata": {},
   "outputs": [
    {
     "data": {
      "image/png": "[encoded data removed]",
      "text/plain": [
       "<Figure size 509.76x360 with 3 Axes>"
      ]
     },
     "metadata": {
      "needs_background": "light"
     },
     "output_type": "display_data"
    }
   ],
   "source": [
    "import matplotlib as mpl\n",
    "mpl.rcParams.update({'font.size': 12})\n",
    "\n",
    "plt.figure(figsize=(7.08,5))\n",
    "\n",
    "plt.subplot(3, 1, 1)\n",
    "plt.plot(sim.trange(), sim.data[p_stim_pre], label='stim')\n",
    "plt.plot(sim.trange(), sim.data[p_pre_v], label='voltage')\n",
    "plt.plot(sim.trange(), sim.data[p_pre]/1000, c='k', label='spikes')\n",
    "plt.ylabel('pre')\n",
    "# plt.legend()\n",
    "\n",
    "plt.subplot(3, 1, 2)\n",
    "plt.plot(sim.trange(), sim.data[p_stim_post], label='stim')\n",
    "# plt.plot(sim.trange(), sim.data[p_post_v], label='voltage')\n",
    "plt.plot(sim.trange(), sim.data[p_post]/1000, c='k', label='spikes')\n",
    "plt.ylabel('post')\n",
    "# plt.legend()\n",
    "\n",
    "plt.subplot(3, 1, 3)\n",
    "plt.plot(sim.trange(), np.array(weights)[:,0,0], label='weight',c='red')\n",
    "plt.ylabel('weight')\n",
    "# plt.legend()\n",
    "plt.tight_layout()\n",
    "plt.savefig('vdsp_example_neuron.pdf')\n",
    "plt.savefig('vdsp_example_neuron.svg')\n",
    "plt.savefig('vdsp_example_neuron.jpeg')"
   ]
  },
  {
   "cell_type": "code",
   "execution_count": null,
   "metadata": {},
   "outputs": [],
   "source": []
  }
 ],
 "metadata": {
  "kernelspec": {
   "display_name": "Python 3",
   "language": "python",
   "name": "python3"
  },
  "language_info": {
   "codemirror_mode": {
    "name": "ipython",
    "version": 3
   },
   "file_extension": ".py",
   "mimetype": "text/x-python",
   "name": "python",
   "nbconvert_exporter": "python",
   "pygments_lexer": "ipython3",
   "version": "3.8.3"
  }
 },
 "nbformat": 4,
 "nbformat_minor": 4
}
